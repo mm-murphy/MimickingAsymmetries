{
 "cells": [
  {
   "cell_type": "code",
   "execution_count": 1,
   "metadata": {},
   "outputs": [],
   "source": [
    "import numpy as np\n",
    "import matplotlib.pyplot as plt\n",
    "import batman, catwoman\n",
    "from multiprocessing import Pool\n",
    "import emcee"
   ]
  },
  {
   "cell_type": "code",
   "execution_count": 2,
   "metadata": {},
   "outputs": [],
   "source": [
    "def calc_H(T, M, R, mm=2.3):\n",
    "    \"\"\" Calculates the approximate scale height of a planet's atmosphere, using the equation\n",
    "     scale height = kT / mg\n",
    "    \n",
    "    Inputs: T = the atmospheric temperature in [K]; M = the planet's mass in [kg]; \n",
    "            R = the planet's radius in [m]; mm = mean mass of a molecule in the atmosphere [amu], this is\n",
    "                   default set to 1 amu = 1 proton mass (for now)\n",
    "    Outputs: H = the scale height in [m]\n",
    "    \"\"\"\n",
    "    # constants:\n",
    "    amu = 1.67e-27 # [kg]; atomic mass unit in [kg]\n",
    "    k = 1.38e-23 # [Joule/K]; Boltzmann constant\n",
    "    G = 6.674e-11 # [m^3/kg/s^2]; Gravitational constant\n",
    "    Mjupiter = 1.9e27 # [kg]; mass of Jupiter\n",
    "    Rjupiter = 69911000.0 # [m]; approx. radius of Jupiter\n",
    "    # computing the numerator for the scale height equation:\n",
    "    E_thermal = k*T # [Joule]\n",
    "    # computing the denominator:\n",
    "    g = G*M/(R**2) # gravitational acceleration in [m/s^2]\n",
    "    meanmass = mm*amu\n",
    "    denominator = meanmass*g # [kg*m/s^2]\n",
    "    # compute the scale height:\n",
    "    H = E_thermal / denominator # [meters]\n",
    "    return H"
   ]
  },
  {
   "cell_type": "code",
   "execution_count": 3,
   "metadata": {},
   "outputs": [],
   "source": [
    "AU_to_meter = 1.496e11\n",
    "day_to_second = 24.*60.*60.\n",
    "Rsun_to_meter = 6.957e8\n",
    "Rjup_to_meter = 7.149e7\n",
    "Mjup_to_kg = 1.899e27"
   ]
  },
  {
   "cell_type": "code",
   "execution_count": 4,
   "metadata": {},
   "outputs": [],
   "source": [
    "# create a planet\n",
    "t0 = 0. # [day]\n",
    "per = 4.0552941 # [day]\n",
    "a = 11.55 # [stellar radii]\n",
    "inc = 87.32 # [degrees]\n",
    "phi = 90.\n",
    "ecc = 0.\n",
    "w = 90.\n",
    "r = 0.1457 # [stellar radii]\n",
    "Rs = 0.92868 # [Rsun]\n",
    "Mp_jup = 0.281 # [jupiter masses]\n",
    "Teq = 1166.0 # [K]\n",
    "T14 = 2.8032 # duration [hours]\n",
    "\n",
    "# calculate things in physical units\n",
    "a_meter = a * Rs * Rsun_to_meter\n",
    "per_seconds = per*day_to_second\n",
    "Rs_meter = Rs * Rsun_to_meter\n",
    "Rp_meter = r * Rs_meter\n",
    "Mp_kg = Mp_jup * Mjup_to_kg\n",
    "\n",
    "# calculate other things\n",
    "v_orb = (2.*np.pi*a_meter) / (per_seconds) # [m/s]\n",
    "H = calc_H(Teq, Mp_kg, Rp_meter, mm=2.3) # [m]\n",
    "\n",
    "# simulated obs. info from or based on pandexo\n",
    "t_int = 79.5 # [s] per integration\n",
    "obs_window_size = (2.5*T14) / 24. # half-duration of whole observation in [day]\n",
    "t = np.arange(-obs_window_size, obs_window_size, (t_int / 60./60./24.))"
   ]
  },
  {
   "cell_type": "code",
   "execution_count": 5,
   "metadata": {},
   "outputs": [
    {
     "name": "stdout",
     "output_type": "stream",
     "text": [
      "H = 1042.34 km\n"
     ]
    }
   ],
   "source": [
    "print('H = %.2f km'%(H/1000.))"
   ]
  },
  {
   "cell_type": "code",
   "execution_count": 6,
   "metadata": {},
   "outputs": [],
   "source": [
    "# initialize transit models\n",
    "#t = np.linspace(-0.1, 0.1, 500)\n",
    "\n",
    "aparams  = catwoman.TransitParams()\n",
    "aparams.t0 = t0                          #time of inferior conjuction (in days)\n",
    "aparams.per = per                         #orbital period (in days)\n",
    "aparams.rp = r                        #top semi-circle radius (in units of stellar radii)\n",
    "aparams.rp2 = r                        #bottom semi-circle radius (in units of stellar radii)\n",
    "aparams.a = a                         #semi-major axis (in units of stellar radii)\n",
    "aparams.inc = inc                        #orbital inclination (in degrees)\n",
    "aparams.ecc = ecc                        #eccentricity\n",
    "aparams.w = w                         #longitude of periastron (in degrees)\n",
    "\n",
    "aparams.limb_dark = \"uniform\"          #limbs darkening model\n",
    "\n",
    "# aparams.limb_dark = \"quadratic\"\n",
    "# aparams.u = [0.1, 0.3]\n",
    "\n",
    "\n",
    "aparams.phi = phi                         #angle of rotation of top semi-circle (in degrees)\n",
    "asymmodel = catwoman.TransitModel(aparams,t)         #initalises model\n",
    "#asymLC = asymmodel.light_curve(params)                #calculates light curve\n",
    "\n",
    "\n",
    "uparams  = batman.TransitParams()\n",
    "uparams.t0 = t0                          #time of inferior conjuction (in days)\n",
    "uparams.per = per                         #orbital period (in days)\n",
    "uparams.rp = r                        #top semi-circle radius (in units of stellar radii)\n",
    "uparams.a = a                         #semi-major axis (in units of stellar radii)\n",
    "uparams.inc = inc                        #orbital inclination (in degrees)\n",
    "uparams.ecc = ecc                        #eccentricity\n",
    "uparams.w = w                         #longitude of periastron (in degrees)\n",
    "\n",
    "uparams.u = []                   #limb darkening coefficients [u1, u2]\n",
    "uparams.limb_dark = \"uniform\"          #limbs darkening model\n",
    "\n",
    "# uparams.limb_dark = \"quadratic\"\n",
    "# uparams.u = [0.1, 0.3]\n",
    "\n",
    "unifmodel = batman.TransitModel(uparams,t)         #initalises model\n",
    "#unifLC = unifmodel.light_curve(bparams)                #calculates light curve"
   ]
  },
  {
   "cell_type": "code",
   "execution_count": 7,
   "metadata": {},
   "outputs": [
    {
     "data": {
      "image/png": "[encoded data removed]",
      "text/plain": [
       "<Figure size 640x480 with 1 Axes>"
      ]
     },
     "metadata": {},
     "output_type": "display_data"
    }
   ],
   "source": [
    "lc_init = unifmodel.light_curve(uparams)\n",
    "plt.plot(t, lc_init)\n",
    "plt.show()"
   ]
  },
  {
   "cell_type": "code",
   "execution_count": 16,
   "metadata": {},
   "outputs": [],
   "source": [
    "def logLikelihood(ydata, yerr, modely):\n",
    "    \"\"\" Computes the Bayesian likelihood of a model, given the data (or is it the other way around?)\n",
    "    Inputs: ydata = your data, yerr= uncertainties on your data, modely = same size array of the model's values\n",
    "    outputs: ln( the likelihood )\n",
    "    \"\"\"\n",
    "    lnL = 0.\n",
    "    chi_array = ((ydata - modely) ** 2. / yerr ** 2.) + np.log(2. * np.pi * yerr ** 2.)\n",
    "    lnL += -0.5 * np.sum(chi_array)\n",
    "    return lnL\n",
    "\n",
    "def lnPosterior(t0, t, y, yerr, adj_rprs, inittransitenv):\n",
    "    # generate model LC\n",
    "    fitparams  = batman.TransitParams()\n",
    "    fitparams.t0 = t0                          #time of inferior conjuction (in days)\n",
    "    fitparams.per = per                         #orbital period (in days)\n",
    "    fitparams.rp = adj_rprs                        #top semi-circle radius (in units of stellar radii)\n",
    "    fitparams.a = a                         #semi-major axis (in units of stellar radii)\n",
    "    fitparams.inc = inc                        #orbital inclination (in degrees)\n",
    "    fitparams.ecc = ecc                        #eccentricity\n",
    "    fitparams.w = w                         #longitude of periastron (in degrees)\n",
    "    fitparams.u = []                   #limb darkening coefficients [u1, u2]\n",
    "    fitparams.limb_dark = \"uniform\"          #limbs darkening mode\n",
    "    fit_LC = inittransitenv.light_curve(fitparams)                #calculates light curve\n",
    "    \n",
    "    # calculate likelihood\n",
    "    lnL = logLikelihood(y, yerr, fit_LC)\n",
    "    \n",
    "    return lnL"
   ]
  },
  {
   "cell_type": "code",
   "execution_count": 17,
   "metadata": {
    "scrolled": true
   },
   "outputs": [
    {
     "name": "stdout",
     "output_type": "stream",
     "text": [
      "==================================================\n",
      "dR = 104234.4 m (0.1 scale heights, 0.11 percent of Rp)\n",
      "Evening limb radius = 94134245.9 m\n",
      "Morning limb radius = 94238480.3 m\n",
      "Analogous uniform limb radius = 94186406.4 m\n",
      "     = 1.0006 x evening limb \n",
      "     = 0.9994 x morning limb \n",
      "dr = 0.0002 \n",
      "Evening limb Rp/Rs = 0.1457\n",
      "Morning limb Rp/Rs = 0.1459\n",
      "Analogous uniform limb Rp/Rs = 0.1458\n",
      "     = 1.0006 x evening limb \n",
      "     = 0.9994 x morning limb \n",
      "Expected shift (method 2) = -0.78 seconds\n"
     ]
    },
    {
     "name": "stderr",
     "output_type": "stream",
     "text": [
      "100%|██████████| 5500/5500 [00:20<00:00, 273.03it/s]"
     ]
    },
    {
     "name": "stdout",
     "output_type": "stream",
     "text": [
      "==================================================\n",
      "dR = 324284.9 m (0.3 scale heights, 0.34 percent of Rp)\n",
      "Evening limb radius = 94134245.9 m\n",
      "Morning limb radius = 94458530.7 m\n",
      "Analogous uniform limb radius = 94296806.5 m\n",
      "     = 1.0017 x evening limb \n",
      "     = 0.9983 x morning limb \n",
      "dr = 0.0005 \n",
      "Evening limb Rp/Rs = 0.1457\n",
      "Morning limb Rp/Rs = 0.1462\n",
      "Analogous uniform limb Rp/Rs = 0.1460\n",
      "     = 1.0017 x evening limb \n",
      "     = 0.9983 x morning limb \n",
      "Expected shift (method 2) = -2.42 seconds\n"
     ]
    },
    {
     "name": "stderr",
     "output_type": "stream",
     "text": [
      "\n",
      "100%|██████████| 5500/5500 [00:23<00:00, 232.89it/s]"
     ]
    },
    {
     "name": "stdout",
     "output_type": "stream",
     "text": [
      "==================================================\n",
      "dR = 544335.3 m (0.5 scale heights, 0.58 percent of Rp)\n",
      "Evening limb radius = 94134245.9 m\n",
      "Morning limb radius = 94678581.2 m\n",
      "Analogous uniform limb radius = 94407590.5 m\n",
      "     = 1.0029 x evening limb \n",
      "     = 0.9971 x morning limb \n",
      "dr = 0.0008 \n",
      "Evening limb Rp/Rs = 0.1457\n",
      "Morning limb Rp/Rs = 0.1465\n",
      "Analogous uniform limb Rp/Rs = 0.1461\n",
      "     = 1.0029 x evening limb \n",
      "     = 0.9971 x morning limb \n",
      "Expected shift (method 2) = -4.07 seconds\n"
     ]
    },
    {
     "name": "stderr",
     "output_type": "stream",
     "text": [
      "\n",
      "100%|██████████| 5500/5500 [00:21<00:00, 257.26it/s]\n"
     ]
    },
    {
     "name": "stdout",
     "output_type": "stream",
     "text": [
      "==================================================\n",
      "dR = 764385.7 m (0.7 scale heights, 0.81 percent of Rp)\n",
      "Evening limb radius = 94134245.9 m\n",
      "Morning limb radius = 94898631.6 m\n",
      "Analogous uniform limb radius = 94518756.9 m\n",
      "     = 1.0041 x evening limb \n",
      "     = 0.9960 x morning limb \n",
      "dr = 0.0012 \n",
      "Evening limb Rp/Rs = 0.1457\n",
      "Morning limb Rp/Rs = 0.1469\n",
      "Analogous uniform limb Rp/Rs = 0.1463\n",
      "     = 1.0041 x evening limb \n",
      "     = 0.9960 x morning limb \n",
      "Expected shift (method 2) = -5.71 seconds\n"
     ]
    },
    {
     "name": "stderr",
     "output_type": "stream",
     "text": [
      "100%|██████████| 5500/5500 [00:20<00:00, 272.00it/s]"
     ]
    },
    {
     "name": "stdout",
     "output_type": "stream",
     "text": [
      "==================================================\n",
      "dR = 984436.2 m (0.9 scale heights, 1.05 percent of Rp)\n",
      "Evening limb radius = 94134245.9 m\n",
      "Morning limb radius = 95118682.0 m\n",
      "Analogous uniform limb radius = 94630304.4 m\n",
      "     = 1.0053 x evening limb \n",
      "     = 0.9949 x morning limb \n",
      "dr = 0.0015 \n",
      "Evening limb Rp/Rs = 0.1457\n",
      "Morning limb Rp/Rs = 0.1472\n",
      "Analogous uniform limb Rp/Rs = 0.1465\n",
      "     = 1.0053 x evening limb \n",
      "     = 0.9949 x morning limb \n",
      "Expected shift (method 2) = -7.36 seconds\n"
     ]
    },
    {
     "name": "stderr",
     "output_type": "stream",
     "text": [
      "\n",
      "100%|██████████| 5500/5500 [00:19<00:00, 278.28it/s]"
     ]
    },
    {
     "name": "stdout",
     "output_type": "stream",
     "text": [
      "==================================================\n",
      "dR = 1204486.6 m (1.2 scale heights, 1.28 percent of Rp)\n",
      "Evening limb radius = 94134245.9 m\n",
      "Morning limb radius = 95338732.5 m\n",
      "Analogous uniform limb radius = 94742231.7 m\n",
      "     = 1.0065 x evening limb \n",
      "     = 0.9937 x morning limb \n",
      "dr = 0.0019 \n",
      "Evening limb Rp/Rs = 0.1457\n",
      "Morning limb Rp/Rs = 0.1476\n",
      "Analogous uniform limb Rp/Rs = 0.1466\n",
      "     = 1.0065 x evening limb \n",
      "     = 0.9937 x morning limb \n",
      "Expected shift (method 2) = -9.00 seconds\n"
     ]
    },
    {
     "name": "stderr",
     "output_type": "stream",
     "text": [
      "\n",
      "100%|██████████| 5500/5500 [00:19<00:00, 278.77it/s]"
     ]
    },
    {
     "name": "stdout",
     "output_type": "stream",
     "text": [
      "==================================================\n",
      "dR = 1424537.0 m (1.4 scale heights, 1.51 percent of Rp)\n",
      "Evening limb radius = 94134245.9 m\n",
      "Morning limb radius = 95558782.9 m\n",
      "Analogous uniform limb radius = 94854537.4 m\n",
      "     = 1.0077 x evening limb \n",
      "     = 0.9926 x morning limb \n",
      "dr = 0.0022 \n",
      "Evening limb Rp/Rs = 0.1457\n",
      "Morning limb Rp/Rs = 0.1479\n",
      "Analogous uniform limb Rp/Rs = 0.1468\n",
      "     = 1.0077 x evening limb \n",
      "     = 0.9926 x morning limb \n",
      "Expected shift (method 2) = -10.65 seconds\n"
     ]
    },
    {
     "name": "stderr",
     "output_type": "stream",
     "text": [
      "\n",
      "100%|██████████| 5500/5500 [00:21<00:00, 254.86it/s]"
     ]
    },
    {
     "name": "stdout",
     "output_type": "stream",
     "text": [
      "==================================================\n",
      "dR = 1644587.5 m (1.6 scale heights, 1.75 percent of Rp)\n",
      "Evening limb radius = 94134245.9 m\n",
      "Morning limb radius = 95778833.3 m\n",
      "Analogous uniform limb radius = 94967220.2 m\n",
      "     = 1.0088 x evening limb \n",
      "     = 0.9915 x morning limb \n",
      "dr = 0.0025 \n",
      "Evening limb Rp/Rs = 0.1457\n",
      "Morning limb Rp/Rs = 0.1482\n",
      "Analogous uniform limb Rp/Rs = 0.1470\n",
      "     = 1.0088 x evening limb \n",
      "     = 0.9915 x morning limb \n",
      "Expected shift (method 2) = -12.29 seconds\n"
     ]
    },
    {
     "name": "stderr",
     "output_type": "stream",
     "text": [
      "\n",
      "100%|██████████| 5500/5500 [00:22<00:00, 248.75it/s]"
     ]
    },
    {
     "name": "stdout",
     "output_type": "stream",
     "text": [
      "==================================================\n",
      "dR = 1864637.9 m (1.8 scale heights, 1.98 percent of Rp)\n",
      "Evening limb radius = 94134245.9 m\n",
      "Morning limb radius = 95998883.8 m\n",
      "Analogous uniform limb radius = 95080278.7 m\n",
      "     = 1.0100 x evening limb \n",
      "     = 0.9904 x morning limb \n",
      "dr = 0.0029 \n",
      "Evening limb Rp/Rs = 0.1457\n",
      "Morning limb Rp/Rs = 0.1486\n",
      "Analogous uniform limb Rp/Rs = 0.1472\n",
      "     = 1.0100 x evening limb \n",
      "     = 0.9904 x morning limb \n",
      "Expected shift (method 2) = -13.93 seconds\n"
     ]
    },
    {
     "name": "stderr",
     "output_type": "stream",
     "text": [
      "\n",
      "100%|██████████| 5500/5500 [00:20<00:00, 263.73it/s]"
     ]
    },
    {
     "name": "stdout",
     "output_type": "stream",
     "text": [
      "==================================================\n",
      "dR = 2084688.3 m (2.0 scale heights, 2.21 percent of Rp)\n",
      "Evening limb radius = 94134245.9 m\n",
      "Morning limb radius = 96218934.2 m\n",
      "Analogous uniform limb radius = 95193711.7 m\n",
      "     = 1.0113 x evening limb \n",
      "     = 0.9893 x morning limb \n",
      "dr = 0.0032 \n",
      "Evening limb Rp/Rs = 0.1457\n",
      "Morning limb Rp/Rs = 0.1489\n",
      "Analogous uniform limb Rp/Rs = 0.1473\n",
      "     = 1.0113 x evening limb \n",
      "     = 0.9893 x morning limb \n",
      "Expected shift (method 2) = -15.58 seconds\n"
     ]
    },
    {
     "name": "stderr",
     "output_type": "stream",
     "text": [
      "\n",
      "100%|██████████| 5500/5500 [00:19<00:00, 276.59it/s]\n"
     ]
    }
   ],
   "source": [
    "Nvals = np.linspace(0.1, 2.0, 10) #np.array([0.5, 1.0, 1.5, 2.0, 2.5, 3.0, 3.5, 4.0, 4.5, 5.0])\n",
    "dt_fits = np.zeros(len(Nvals))\n",
    "dt_fiterrs = np.zeros(len(Nvals))\n",
    "dt_calcs = np.zeros(len(Nvals))\n",
    "for iN, N in enumerate(Nvals):\n",
    "    print('='*50)\n",
    "    # define limb extension\n",
    "    #N = 1.0\n",
    "    dR_m = N * H #[m]\n",
    "\n",
    "    # set evening limb to same value\n",
    "    Rp_evening_m = Rp_meter\n",
    "    # but extend morning\n",
    "    Rp_morning_m = Rp_evening_m + dR_m\n",
    "    # and calculate analagous homogeneous transit\n",
    "    Rp_uniform_m = np.sqrt((Rp_evening_m**2) + (Rp_evening_m * dR_m) + (dR_m**2))\n",
    "\n",
    "    print('dR = %.1f m (%.1f scale heights, %.2f percent of Rp)'%(dR_m, N, (100.*dR_m/Rp_evening_m)))\n",
    "    print('Evening limb radius = %.1f m'%(Rp_evening_m))\n",
    "    print('Morning limb radius = %.1f m'%(Rp_morning_m))\n",
    "    print('Analogous uniform limb radius = %.1f m'%(Rp_uniform_m))\n",
    "    print('     = %.4f x evening limb '%(Rp_uniform_m / Rp_evening_m))\n",
    "    print('     = %.4f x morning limb '%(Rp_uniform_m / Rp_morning_m))\n",
    "\n",
    "    # compute corresponding rp/rs values\n",
    "    dr = dR_m / Rs_meter\n",
    "    r_evening = Rp_evening_m / Rs_meter\n",
    "    r_morning = Rp_morning_m / Rs_meter\n",
    "    r_uniform = Rp_uniform_m / Rs_meter\n",
    "    print('dr = %.4f '%(dr))\n",
    "    print('Evening limb Rp/Rs = %.4f'%(r_evening))\n",
    "    print('Morning limb Rp/Rs = %.4f'%(r_morning))\n",
    "    print('Analogous uniform limb Rp/Rs = %.4f'%(r_uniform))\n",
    "    print('     = %.4f x evening limb '%(r_uniform / r_evening))\n",
    "    print('     = %.4f x morning limb '%(r_uniform / r_morning))\n",
    "\n",
    "    # calculate expected shift in transit midpoint via method 1\n",
    "    #dt_numerator1 = (Rp_morning_m + Rp_evening_m) - 2.*Rp_uniform_m\n",
    "    #dt_expected1_sec = (dt_numerator1) / (2.*v_orb) # [s]\n",
    "    #dt_expected1_day = dt_expected1_sec / day_to_second \n",
    "    # calculate expected shift via method 2\n",
    "    d_pathlength = - dR_m\n",
    "    dt_expected2_sec = (d_pathlength) / (v_orb)\n",
    "\n",
    "    #print('Expected shift (method 1) = %.2f seconds'%(dt_expected1_sec))\n",
    "    print('Expected shift (method 2) = %.2f seconds'%(dt_expected2_sec))\n",
    "    \n",
    "    # update model parameters\n",
    "    # asymmetric transit:\n",
    "    aparams.rp = r_evening\n",
    "    aparams.rp2 = r_morning\n",
    "    #aparams.u = [0.5,0.5]\n",
    "    # analogous uniform transit:\n",
    "    uparams.rp = r_uniform\n",
    "    #uparams.u = [0.5, 0.5]\n",
    "\n",
    "    # generate light curves\n",
    "    lc_asym = asymmodel.light_curve(aparams)\n",
    "    lc_unif = unifmodel.light_curve(uparams)\n",
    "\n",
    "    # generate fake data around asymmetric light curve\n",
    "    y_sim, yerr_sim = np.zeros(len(lc_asym)), np.zeros(len(lc_asym))\n",
    "    scatter = 1. / 1.e6\n",
    "    for i, time in enumerate(t):\n",
    "        y_sim[i] = lc_asym[i] + np.random.normal(loc=0., scale=scatter)\n",
    "        yerr_sim = scatter\n",
    "        \n",
    "    t0_init = t0\n",
    "    t0_initerr = (1.0) / 24./24./60.\n",
    "\n",
    "    Ndim = 1\n",
    "    Nwalkers = 5\n",
    "    pos = np.zeros((Nwalkers, Ndim))\n",
    "    pos[:,0] = t0_init + np.random.normal(0., t0_initerr, Nwalkers)\n",
    "\n",
    "    Nburn = 500\n",
    "    Nsteps = 5000 + Nburn\n",
    "    \n",
    "    with Pool() as pool:\n",
    "        sampler = emcee.EnsembleSampler(Nwalkers, Ndim, lnPosterior, pool=pool,\n",
    "                                       args=(t, y_sim, yerr_sim, r_uniform, unifmodel))\n",
    "        sampler.run_mcmc(pos, Nsteps, progress=True)\n",
    "        \n",
    "    samples = sampler.get_chain(discard=Nburn)\n",
    "    flatsamples = sampler.get_chain(discard=Nburn, flat=True)\n",
    "    \n",
    "    t0_bestfit = np.median(flatsamples[:,0])\n",
    "    t0_pluserr = np.percentile(flatsamples[:,0], 84) - t0_bestfit\n",
    "    t0_minuserr = t0_bestfit - np.percentile(flatsamples[:,0], 16)\n",
    "    t0_besterr = np.mean((t0_pluserr, t0_minuserr))\n",
    "\n",
    "    dt_bestfit_sec = (t0_bestfit - t0)*day_to_second\n",
    "    dt_besterr_sec = t0_besterr*day_to_second\n",
    "    \n",
    "    dt_fits[iN] = dt_bestfit_sec\n",
    "    dt_fiterrs[iN] = dt_besterr_sec\n",
    "    dt_calcs[iN] = dt_expected2_sec"
   ]
  },
  {
   "cell_type": "code",
   "execution_count": 18,
   "metadata": {},
   "outputs": [
    {
     "data": {
      "image/png": "[encoded data removed]",
      "text/plain": [
       "<Figure size 800x400 with 1 Axes>"
      ]
     },
     "metadata": {},
     "output_type": "display_data"
    }
   ],
   "source": [
    "#\n",
    "fig, ax = plt.subplots(figsize=(8,4))\n",
    "ax.errorbar(Nvals, abs(dt_fits), dt_fiterrs, ls='None', c='black', marker='o', label='Fits')\n",
    "#\n",
    "ax.plot(Nvals, abs(0.5*dt_calcs), c='blue', label='Analytic')\n",
    "ax.plot(Nvals, (5./4.)*abs(0.5*dt_calcs), c='blue', ls='--', label='Analytic * 5/4')\n",
    "#ax.plot(Nvals, test, c='blue', label='1.35*Analytic')\n",
    "ax.set(xlabel='N', label='dt')\n",
    "ax.legend(loc='best')\n",
    "plt.show()"
   ]
  },
  {
   "cell_type": "code",
   "execution_count": 10,
   "metadata": {},
   "outputs": [],
   "source": [
    "save_results = True\n",
    "if save_results:\n",
    "    filename = './newresults_wasp39b_uniformLD.npz'\n",
    "    np.savez(filename,\n",
    "            Nvals=Nvals, dt_fits=dt_fits, dt_fiterrs=dt_fiterrs, dt_cals=dt_calcs)"
   ]
  },
  {
   "cell_type": "code",
   "execution_count": 11,
   "metadata": {},
   "outputs": [
    {
     "data": {
      "text/plain": [
       "1042344.1620933041"
      ]
     },
     "execution_count": 11,
     "metadata": {},
     "output_type": "execute_result"
    }
   ],
   "source": [
    "H"
   ]
  },
  {
   "cell_type": "code",
   "execution_count": 13,
   "metadata": {},
   "outputs": [
    {
     "data": {
      "text/plain": [
       "144094.61721771155"
      ]
     },
     "execution_count": 13,
     "metadata": {},
     "output_type": "execute_result"
    }
   ],
   "source": [
    "v_orb"
   ]
  },
  {
   "cell_type": "code",
   "execution_count": 14,
   "metadata": {},
   "outputs": [
    {
     "data": {
      "text/plain": [
       "4.0552941"
      ]
     },
     "execution_count": 14,
     "metadata": {},
     "output_type": "execute_result"
    }
   ],
   "source": [
    "per"
   ]
  },
  {
   "cell_type": "code",
   "execution_count": null,
   "metadata": {},
   "outputs": [],
   "source": []
  }
 ],
 "metadata": {
  "kernelspec": {
   "display_name": "Python 3",
   "language": "python",
   "name": "python3"
  },
  "language_info": {
   "codemirror_mode": {
    "name": "ipython",
    "version": 3
   },
   "file_extension": ".py",
   "mimetype": "text/x-python",
   "name": "python",
   "nbconvert_exporter": "python",
   "pygments_lexer": "ipython3",
   "version": "3.8.8"
  }
 },
 "nbformat": 4,
 "nbformat_minor": 4
}
