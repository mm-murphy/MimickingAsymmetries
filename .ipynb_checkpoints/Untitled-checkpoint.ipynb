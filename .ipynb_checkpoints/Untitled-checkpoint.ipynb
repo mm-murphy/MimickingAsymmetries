{
 "cells": [
  {
   "cell_type": "markdown",
   "metadata": {},
   "source": [
    "### Tests to run:\n",
    "1) If a CW model is created with no asymmetry, and batman-fit procedure is repeated, do I get the right tc? i.e. zero timing bias?\n",
    "\n",
    "2) For arbitrary CW and BM models, do the modeled transit durations match analytical predictions?"
   ]
  },
  {
   "cell_type": "code",
   "execution_count": 1,
   "metadata": {},
   "outputs": [],
   "source": [
    "import numpy as np\n",
    "import matplotlib.pyplot as plt\n",
    "import batman, catwoman\n",
    "from multiprocessing import Pool\n",
    "import emcee"
   ]
  },
  {
   "cell_type": "code",
   "execution_count": 3,
   "metadata": {},
   "outputs": [],
   "source": [
    "# create a planet\n",
    "t0 = 0. # [day]\n",
    "per = 4.0552941 # [day]\n",
    "a = 11.55 # [stellar radii]\n",
    "inc = 87.32 # [degrees]\n",
    "phi = 90.\n",
    "ecc = 0.\n",
    "w = 90.\n",
    "r = 0.1457 # [stellar radii]\n",
    "Rs = 0.92868 # [Rsun]\n",
    "Mp_jup = 0.281 # [jupiter masses]\n",
    "Teq = 1166.0 # [K]\n",
    "T14 = 2.8032 # duration [hours]\n",
    "\n",
    "# calculate things in physical units\n",
    "AU_to_meter = 1.496e11\n",
    "day_to_second = 24.*60.*60.\n",
    "Rsun_to_meter = 6.957e8\n",
    "Rjup_to_meter = 7.149e7\n",
    "Mjup_to_kg = 1.899e27\n",
    "a_meter = a * Rs * Rsun_to_meter\n",
    "per_seconds = per*day_to_second\n",
    "Rs_meter = Rs * Rsun_to_meter\n",
    "Rp_meter = r * Rs_meter\n",
    "Mp_kg = Mp_jup * Mjup_to_kg\n",
    "\n",
    "# calculate other things\n",
    "v_orb = (2.*np.pi*a_meter) / (per_seconds) # [m/s]\n",
    "#H = calc_H(Teq, Mp_kg, Rp_meter, mm=2.3) # [m]\n",
    "\n",
    "# simulated obs. info from or based on pandexo\n",
    "t_int = 79.5 # [s] per integration\n",
    "obs_window_size = (2.5*T14) / 24. # half-duration of whole observation in [day]\n",
    "t = np.arange(-obs_window_size, obs_window_size, (t_int / 60./60./24.))"
   ]
  },
  {
   "cell_type": "code",
   "execution_count": 12,
   "metadata": {},
   "outputs": [],
   "source": [
    "aparams  = catwoman.TransitParams()\n",
    "aparams.t0 = t0                          #time of inferior conjuction (in days)\n",
    "aparams.per = per                         #orbital period (in days)\n",
    "aparams.rp = r                        #top semi-circle radius (in units of stellar radii)\n",
    "aparams.rp2 = r                        #bottom semi-circle radius (in units of stellar radii)\n",
    "aparams.a = a                         #semi-major axis (in units of stellar radii)\n",
    "aparams.inc = inc                        #orbital inclination (in degrees)\n",
    "aparams.ecc = ecc                        #eccentricity\n",
    "aparams.w = w                         #longitude of periastron (in degrees)\n",
    "\n",
    "aparams.limb_dark = \"uniform\"          #limbs darkening model\n",
    "\n",
    "# aparams.limb_dark = \"quadratic\"\n",
    "# aparams.u = [0.1, 0.3]\n",
    "\n",
    "\n",
    "aparams.phi = phi                         #angle of rotation of top semi-circle (in degrees)\n",
    "asymmodel = catwoman.TransitModel(aparams,t)         #initalises model\n",
    "#asymLC = asymmodel.light_curve(params)                #calculates light curve\n",
    "\n",
    "\n",
    "uparams  = batman.TransitParams()\n",
    "uparams.t0 = t0                          #time of inferior conjuction (in days)\n",
    "uparams.per = per                         #orbital period (in days)\n",
    "uparams.rp = r                        #top semi-circle radius (in units of stellar radii)\n",
    "uparams.a = a                         #semi-major axis (in units of stellar radii)\n",
    "uparams.inc = inc                        #orbital inclination (in degrees)\n",
    "uparams.ecc = ecc                        #eccentricity\n",
    "uparams.w = w                         #longitude of periastron (in degrees)\n",
    "\n",
    "uparams.u = []                   #limb darkening coefficients [u1, u2]\n",
    "uparams.limb_dark = \"uniform\"          #limbs darkening model\n",
    "\n",
    "# uparams.limb_dark = \"quadratic\"\n",
    "# uparams.u = [0.1, 0.3]\n",
    "\n",
    "unifmodel = batman.TransitModel(uparams,t)         #initalises model\n",
    "#unifLC = unifmodel.light_curve(bparams)                #calculates light curve"
   ]
  },
  {
   "cell_type": "markdown",
   "metadata": {},
   "source": [
    "### test 1"
   ]
  },
  {
   "cell_type": "code",
   "execution_count": 5,
   "metadata": {},
   "outputs": [],
   "source": [
    "def logLikelihood(ydata, yerr, modely):\n",
    "    \"\"\" Computes the Bayesian likelihood of a model, given the data (or is it the other way around?)\n",
    "    Inputs: ydata = your data, yerr= uncertainties on your data, modely = same size array of the model's values\n",
    "    outputs: ln( the likelihood )\n",
    "    \"\"\"\n",
    "    lnL = 0.\n",
    "    chi_array = ((ydata - modely) ** 2. / yerr ** 2.) + np.log(2. * np.pi * yerr ** 2.)\n",
    "    lnL += -0.5 * np.sum(chi_array)\n",
    "    return lnL\n",
    "\n",
    "def lnPosterior(t0, t, y, yerr, inittransitenv):\n",
    "    # generate model LC\n",
    "    fitparams  = batman.TransitParams()\n",
    "    fitparams.t0 = t0                          #time of inferior conjuction (in days)\n",
    "    fitparams.per = per                         #orbital period (in days)\n",
    "    fitparams.rp = r                        #top semi-circle radius (in units of stellar radii)\n",
    "    fitparams.a = a                         #semi-major axis (in units of stellar radii)\n",
    "    fitparams.inc = inc                        #orbital inclination (in degrees)\n",
    "    fitparams.ecc = ecc                        #eccentricity\n",
    "    fitparams.w = w                         #longitude of periastron (in degrees)\n",
    "    fitparams.u = []                   #limb darkening coefficients [u1, u2]\n",
    "    fitparams.limb_dark = \"uniform\"          #limbs darkening mode\n",
    "    fit_LC = inittransitenv.light_curve(fitparams)                #calculates light curve\n",
    "    \n",
    "    # calculate likelihood\n",
    "    lnL = logLikelihood(y, yerr, fit_LC)\n",
    "    \n",
    "    return lnL"
   ]
  },
  {
   "cell_type": "code",
   "execution_count": 46,
   "metadata": {},
   "outputs": [
    {
     "name": "stdout",
     "output_type": "stream",
     "text": [
      "dR = 0\n",
      "Evening limb radius = 94134245.9 m\n",
      "Morning limb radius = 94134545.9 m\n",
      "Analogous uniform limb radius = 94134395.9 m\n",
      "     = 1.0000 x evening limb \n",
      "     = 1.0000 x morning limb \n",
      "dr = 0.0000 \n",
      "Evening limb Rp/Rs = 0.14570000\n",
      "Morning limb Rp/Rs = 0.14570046\n",
      "Analogous uniform limb Rp/Rs = 0.14570023\n",
      "     = 1.0000 x evening limb \n",
      "     = 1.0000 x morning limb \n",
      "Expected shift (method 2) = -0.002242 seconds\n"
     ]
    },
    {
     "name": "stderr",
     "output_type": "stream",
     "text": [
      "100%|██████████| 5500/5500 [00:33<00:00, 163.48it/s]"
     ]
    },
    {
     "name": "stdout",
     "output_type": "stream",
     "text": [
      "zero asymmetry recovery test\n",
      "dR = 0 -> real dt = 0\n",
      "best fit dt = -0.44 +- 1.13 s\n",
      "within 1 -sigma of dt = 0\n",
      "test passed!\n"
     ]
    },
    {
     "name": "stderr",
     "output_type": "stream",
     "text": [
      "\n"
     ]
    }
   ],
   "source": [
    "# set evening limb and morning limbs to same value (or very small difference)\n",
    "dR_m = 300.\n",
    "Rp_evening_m = Rp_meter\n",
    "# but extend morning\n",
    "Rp_morning_m = Rp_evening_m + dR_m\n",
    "# and calculate analagous homogeneous transit\n",
    "Rp_uniform_m = np.sqrt((Rp_evening_m**2) + (Rp_evening_m * dR_m) + (dR_m**2))\n",
    "\n",
    "print('dR = 0')\n",
    "print('Evening limb radius = %.1f m'%(Rp_evening_m))\n",
    "print('Morning limb radius = %.1f m'%(Rp_morning_m))\n",
    "print('Analogous uniform limb radius = %.1f m'%(Rp_uniform_m))\n",
    "print('     = %.4f x evening limb '%(Rp_uniform_m / Rp_evening_m))\n",
    "print('     = %.4f x morning limb '%(Rp_uniform_m / Rp_morning_m))\n",
    "\n",
    "# compute corresponding rp/rs values\n",
    "dr = dR_m / Rs_meter\n",
    "r_evening = Rp_evening_m / Rs_meter\n",
    "r_morning = Rp_morning_m / Rs_meter\n",
    "r_uniform = Rp_uniform_m / Rs_meter\n",
    "print('dr = %.4f '%(dr))\n",
    "print('Evening limb Rp/Rs = %.8f'%(r_evening))\n",
    "print('Morning limb Rp/Rs = %.8f'%(r_morning))\n",
    "print('Analogous uniform limb Rp/Rs = %.8f'%(r_uniform))\n",
    "print('     = %.4f x evening limb '%(r_uniform / r_evening))\n",
    "print('     = %.4f x morning limb '%(r_uniform / r_morning))\n",
    "    \n",
    "     \n",
    "# calculate expected shift via method 2\n",
    "d_pathlength = -dR_m\n",
    "dt_expected2_sec = (d_pathlength) / (v_orb)\n",
    "    \n",
    "print('Expected shift (method 2) = %.6f seconds'%(dt_expected2_sec))\n",
    "    \n",
    "# update model parameters\n",
    "# asymmetric transit:\n",
    "aparams.rp = r_evening\n",
    "aparams.rp2 = r_morning\n",
    "#aparams.u = [0.5,0.5]\n",
    "# analogous uniform transit:\n",
    "uparams.rp = r_uniform\n",
    "#uparams.u = [0.5, 0.5]\n",
    "\n",
    "# change something else funky\n",
    "\n",
    "# generate light curves\n",
    "lc_asym = asymmodel.light_curve(aparams)\n",
    "lc_unif = unifmodel.light_curve(uparams)\n",
    "\n",
    "# generate fake data around asymmetric light curve\n",
    "y_sim, yerr_sim = np.zeros(len(lc_asym)), np.zeros(len(lc_asym))\n",
    "scatter = 100. / 1.e6\n",
    "for i, time in enumerate(t):\n",
    "    y_sim[i] = lc_asym[i] + np.random.normal(loc=0., scale=scatter)\n",
    "    yerr_sim = scatter\n",
    "\n",
    "t0_init = t0\n",
    "t0_initerr = (5.0) / 24./24./60.\n",
    "\n",
    "Ndim = 1\n",
    "Nwalkers = 5\n",
    "pos = np.zeros((Nwalkers, Ndim))\n",
    "pos[:,0] = t0_init + np.random.normal(0., t0_initerr, Nwalkers)\n",
    "\n",
    "Nburn = 500\n",
    "Nsteps = 5000 + Nburn\n",
    "\n",
    "with Pool() as pool:\n",
    "    sampler = emcee.EnsembleSampler(Nwalkers, Ndim, lnPosterior, pool=pool,\n",
    "                                   args=(t, y_sim, yerr_sim, unifmodel))\n",
    "    sampler.run_mcmc(pos, Nsteps, progress=True)\n",
    "\n",
    "samples = sampler.get_chain(discard=Nburn)\n",
    "flatsamples = sampler.get_chain(discard=Nburn, flat=True)\n",
    "\n",
    "t0_bestfit = np.median(flatsamples[:,0])\n",
    "t0_pluserr = np.percentile(flatsamples[:,0], 84) - t0_bestfit\n",
    "t0_minuserr = t0_bestfit - np.percentile(flatsamples[:,0], 16)\n",
    "t0_besterr = np.mean((t0_pluserr, t0_minuserr))\n",
    "\n",
    "dt_bestfit_sec = (t0_bestfit - t0)*day_to_second\n",
    "dt_besterr_sec = t0_besterr*day_to_second\n",
    "\n",
    "print('zero asymmetry recovery test')\n",
    "print('dR = 0 -> real dt = 0')\n",
    "print('best fit dt = %.2f +- %.2f s'%(dt_bestfit_sec, dt_besterr_sec))\n",
    "\n",
    "if (abs(dt_bestfit_sec) < (1.0 * dt_besterr_sec)):\n",
    "    # if within 1 sigma of zero, passed test\n",
    "    print('within 1 -sigma of dt = 0')\n",
    "    print('test passed!')"
   ]
  },
  {
   "cell_type": "markdown",
   "metadata": {},
   "source": [
    "### test 2 -- transit duration"
   ]
  },
  {
   "cell_type": "code",
   "execution_count": 13,
   "metadata": {},
   "outputs": [],
   "source": [
    "asymLC = asymmodel.light_curve(aparams)\n",
    "unifLC = unifmodel.light_curve(uparams)"
   ]
  },
  {
   "cell_type": "code",
   "execution_count": 34,
   "metadata": {},
   "outputs": [],
   "source": [
    "# from model\n",
    "T1 = t[np.where((t < 0) & (unifLC == 1.0))[0][-1]+1]\n",
    "T2 = t[np.where((t < 0) & (unifLC > min(unifLC)))[0][-1]] # only valid for uniform LD\n",
    "T3 = t[np.where((t > 0) & (unifLC > min(unifLC)))[0][0]] # only valid for uniform LD\n",
    "T4 = t[np.where((t > 0) & (unifLC == 1.0))[0][0]]\n",
    "\n",
    "T12 = T2 - T1\n",
    "T34 = T4 - T3\n",
    "T14 = T4 - T1"
   ]
  },
  {
   "cell_type": "code",
   "execution_count": null,
   "metadata": {},
   "outputs": [],
   "source": [
    "# analytic formulas"
   ]
  },
  {
   "cell_type": "code",
   "execution_count": 35,
   "metadata": {},
   "outputs": [
    {
     "data": {
      "image/png": "[encoded data removed]",
      "text/plain": [
       "<Figure size 1000x500 with 1 Axes>"
      ]
     },
     "metadata": {},
     "output_type": "display_data"
    }
   ],
   "source": [
    "fig, ax = plt.subplots(figsize=(10,5))\n",
    "ax.axvline(T1, c='black', alpha=0.4)\n",
    "ax.axvline(T2, c='black', alpha=0.4)\n",
    "ax.axvline(T3, c='black', alpha=0.4)\n",
    "ax.axvline(T4, c='black', alpha=0.4)\n",
    "ax.plot(t, asymLC, c='green', label='asym')\n",
    "ax.plot(t, unifLC, c='blue', label='unif')\n",
    "ax.set(xlim=(-0.1, 0.1))\n",
    "plt.show()"
   ]
  },
  {
   "cell_type": "code",
   "execution_count": 37,
   "metadata": {},
   "outputs": [
    {
     "name": "stdout",
     "output_type": "stream",
     "text": [
      "Model:\n",
      "T14 = 162.97 minutes\n",
      "T12 = 27.82 minutes\n",
      "T34 = 27.82 minutes\n"
     ]
    }
   ],
   "source": [
    "print('Model:')\n",
    "print('T14 = %.2f minutes'%(T14*24.*60.))\n",
    "print('T12 = %.2f minutes'%(T12*24.*60.))\n",
    "print('T34 = %.2f minutes'%(T34*24.*60.))"
   ]
  },
  {
   "cell_type": "code",
   "execution_count": null,
   "metadata": {},
   "outputs": [],
   "source": []
  }
 ],
 "metadata": {
  "kernelspec": {
   "display_name": "Python 3",
   "language": "python",
   "name": "python3"
  },
  "language_info": {
   "codemirror_mode": {
    "name": "ipython",
    "version": 3
   },
   "file_extension": ".py",
   "mimetype": "text/x-python",
   "name": "python",
   "nbconvert_exporter": "python",
   "pygments_lexer": "ipython3",
   "version": "3.8.8"
  }
 },
 "nbformat": 4,
 "nbformat_minor": 4
}
