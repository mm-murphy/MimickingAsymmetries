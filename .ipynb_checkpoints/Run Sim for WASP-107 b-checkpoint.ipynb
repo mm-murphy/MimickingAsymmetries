{
 "cells": [
  {
   "cell_type": "code",
   "execution_count": 1,
   "metadata": {},
   "outputs": [],
   "source": [
    "import numpy as np\n",
    "import matplotlib.pyplot as plt\n",
    "import batman, catwoman\n",
    "from multiprocessing import Pool\n",
    "import emcee"
   ]
  },
  {
   "cell_type": "code",
   "execution_count": 2,
   "metadata": {},
   "outputs": [],
   "source": [
    "def calc_H(T, M, R, mm=2.3):\n",
    "    \"\"\" Calculates the approximate scale height of a planet's atmosphere, using the equation\n",
    "     scale height = kT / mg\n",
    "    \n",
    "    Inputs: T = the atmospheric temperature in [K]; M = the planet's mass in [kg]; \n",
    "            R = the planet's radius in [m]; mm = mean mass of a molecule in the atmosphere [amu], this is\n",
    "                   default set to 1 amu = 1 proton mass (for now)\n",
    "    Outputs: H = the scale height in [m]\n",
    "    \"\"\"\n",
    "    # constants:\n",
    "    amu = 1.67e-27 # [kg]; atomic mass unit in [kg]\n",
    "    k = 1.38e-23 # [Joule/K]; Boltzmann constant\n",
    "    G = 6.674e-11 # [m^3/kg/s^2]; Gravitational constant\n",
    "    Mjupiter = 1.9e27 # [kg]; mass of Jupiter\n",
    "    Rjupiter = 69911000.0 # [m]; approx. radius of Jupiter\n",
    "    # computing the numerator for the scale height equation:\n",
    "    E_thermal = k*T # [Joule]\n",
    "    # computing the denominator:\n",
    "    g = G*M/(R**2) # gravitational acceleration in [m/s^2]\n",
    "    meanmass = mm*amu\n",
    "    denominator = meanmass*g # [kg*m/s^2]\n",
    "    # compute the scale height:\n",
    "    H = E_thermal / denominator # [meters]\n",
    "    return H"
   ]
  },
  {
   "cell_type": "code",
   "execution_count": 3,
   "metadata": {},
   "outputs": [],
   "source": [
    "AU_to_meter = 1.496e11\n",
    "day_to_second = 24.*60.*60.\n",
    "Rsun_to_meter = 6.957e8\n",
    "Rjup_to_meter = 7.149e7\n",
    "Mjup_to_kg = 1.899e27"
   ]
  },
  {
   "cell_type": "code",
   "execution_count": 4,
   "metadata": {},
   "outputs": [
    {
     "name": "stdout",
     "output_type": "stream",
     "text": [
      "Planet properties\n",
      "bulk scale height H = 1221.82 km\n"
     ]
    }
   ],
   "source": [
    "# create a planet\n",
    "tc = 0. # [day]\n",
    "per = 5.721488 # [day]\n",
    "a = 18.2 # [stellar radii]\n",
    "inc = 89.7 # [degrees]\n",
    "phi = 90.\n",
    "ecc = 0.\n",
    "w = 90.\n",
    "r = 0.14434 # [stellar radii]\n",
    "Rs = 0.73 # [Rsun]\n",
    "Mp_jup = 0.096 # [jupiter masses]\n",
    "Teq = 770. # [K]\n",
    "T14 = 2.753 # duration [hours]\n",
    "\n",
    "# calculate things in physical units\n",
    "a_meter = a * Rs * Rsun_to_meter\n",
    "per_seconds = per*day_to_second\n",
    "Rs_meter = Rs * Rsun_to_meter\n",
    "Rp_meter = r * Rs_meter\n",
    "Mp_kg = Mp_jup * Mjup_to_kg\n",
    "\n",
    "# calculate other things\n",
    "v_orb = (2.*np.pi*a_meter) / (per_seconds) # [m/s]\n",
    "H = calc_H(Teq, Mp_kg, Rp_meter, mm=2.3) # [m]\n",
    "\n",
    "# simulated obs. info from or based on pandexo\n",
    "t_int = 20.2 # [s] per integration\n",
    "obs_window_size = (1.*T14) / 24. # half-duration of whole observation in [day]\n",
    "t = np.arange(-obs_window_size, obs_window_size, (t_int / 60./60./24.))\n",
    "\n",
    "print('Planet properties')\n",
    "print('bulk scale height H = %.2f km'%(H/1000.))"
   ]
  },
  {
   "cell_type": "code",
   "execution_count": 5,
   "metadata": {},
   "outputs": [],
   "source": [
    "## -- initialize transit model environments\n",
    "## -- Catwoman:\n",
    "aparams  = catwoman.TransitParams()\n",
    "aparams.t0 = tc                          #time of inferior conjuction (in days)\n",
    "aparams.per = per                         #orbital period (in days)\n",
    "aparams.rp = r                        #top semi-circle radius (in units of stellar radii)\n",
    "aparams.rp2 = r                        #bottom semi-circle radius (in units of stellar radii)\n",
    "aparams.a = a                         #semi-major axis (in units of stellar radii)\n",
    "aparams.inc = inc                        #orbital inclination (in degrees)\n",
    "aparams.ecc = ecc                        #eccentricity\n",
    "aparams.w = w                         #longitude of periastron (in degrees)\n",
    "aparams.limb_dark = \"uniform\"          #limbs darkening model\n",
    "aparams.phi = phi                         #angle of rotation of top semi-circle (in degrees)\n",
    "asymmodel = catwoman.TransitModel(aparams,t)         #initalises model\n",
    "#asymLC = asymmodel.light_curve(params)                #calculates light curve\n",
    "\n",
    "## -- Batman:\n",
    "uparams  = batman.TransitParams()\n",
    "uparams.t0 = tc                          #time of inferior conjuction (in days)\n",
    "uparams.per = per                         #orbital period (in days)\n",
    "uparams.rp = r                        #top semi-circle radius (in units of stellar radii)\n",
    "uparams.a = a                         #semi-major axis (in units of stellar radii)\n",
    "uparams.inc = inc                        #orbital inclination (in degrees)\n",
    "uparams.ecc = ecc                        #eccentricity\n",
    "uparams.w = w                         #longitude of periastron (in degrees)\n",
    "uparams.u = []                   #limb darkening coefficients [u1, u2]\n",
    "uparams.limb_dark = \"uniform\"          #limbs darkening model\n",
    "unifmodel = batman.TransitModel(uparams,t)         #initalises model\n",
    "#unifLC = unifmodel.light_curve(bparams)                #calculates light curve\n",
    "\n",
    "## note:\n",
    "## we assume uniform LD for simplicity. it speeds up the initialization, the fitting, and allows easier estimations\n",
    "##   of light curve contact points."
   ]
  },
  {
   "cell_type": "code",
   "execution_count": 6,
   "metadata": {},
   "outputs": [],
   "source": [
    "# lc_init = unifmodel.light_curve(uparams)\n",
    "# plt.plot(t, lc_init)\n",
    "# plt.show()"
   ]
  },
  {
   "cell_type": "code",
   "execution_count": 7,
   "metadata": {},
   "outputs": [],
   "source": [
    "def logLikelihood(ydata, yerr, modely):\n",
    "    \"\"\" Computes the Bayesian likelihood of a model, given the data (or is it the other way around?)\n",
    "    Inputs: ydata = your data, yerr= uncertainties on your data, modely = same size array of the model's values\n",
    "    outputs: ln( the likelihood )\n",
    "    \"\"\"\n",
    "    lnL = 0.\n",
    "    chi_array = ((ydata - modely) ** 2. / yerr ** 2.) + np.log(2. * np.pi * yerr ** 2.)\n",
    "    lnL += -0.5 * np.sum(chi_array)\n",
    "    return lnL\n",
    "\n",
    "def lnPosterior(tc_fitting, t, y, yerr, adj_rprs, inittransitenv):\n",
    "    ## computes the log Posterior of model, given data\n",
    "    ## we are fitting data (generated from an asymmetric-limb model) using\n",
    "    ##   a uniform-limb transit model, and fitting for the tc\n",
    "    ## Major input is the tc parameter, and the uniform-limb rprs. Other transit params. are fixed to their true values\n",
    "    #\n",
    "    # Take step's tc and gen. a uniform-limb model, using fixed true transit params.\n",
    "    fitparams  = batman.TransitParams()\n",
    "    fitparams.t0 = tc_fitting                          #time of inferior conjuction (in days)\n",
    "    fitparams.per = per                         #orbital period (in days)\n",
    "    fitparams.rp = adj_rprs                        #top semi-circle radius (in units of stellar radii)\n",
    "    fitparams.a = a                         #semi-major axis (in units of stellar radii)\n",
    "    fitparams.inc = inc                        #orbital inclination (in degrees)\n",
    "    fitparams.ecc = ecc                        #eccentricity\n",
    "    fitparams.w = w                         #longitude of periastron (in degrees)\n",
    "    fitparams.u = []                   #limb darkening coefficients [u1, u2]\n",
    "    fitparams.limb_dark = \"uniform\"          #limbs darkening mode\n",
    "    fit_LC = inittransitenv.light_curve(fitparams)                #calculates light curve\n",
    "    # calculate likelihood of this model, given input data\n",
    "    lnL = logLikelihood(y, yerr, fit_LC)\n",
    "    # we ignore priors, so this likelihood is it\n",
    "    return lnL"
   ]
  },
  {
   "cell_type": "code",
   "execution_count": 8,
   "metadata": {},
   "outputs": [
    {
     "name": "stdout",
     "output_type": "stream",
     "text": [
      "==================================================\n",
      "Step 1 of 10\n",
      "testing N = 0.00\n",
      "dR = 0.0 m (0.0 scale heights, 0.00 percent of Rp)\n",
      "Evening limb radius = 73304656.7 m\n",
      "Morning limb radius = 73304656.7 m\n",
      "Analogous uniform limb radius = 73304656.7 m\n",
      "     = 1.0000 x evening limb \n",
      "     = 1.0000 x morning limb \n",
      "dr = 0.0000 \n",
      "Evening limb Rp/Rs = 0.1443\n",
      "Morning limb Rp/Rs = 0.1443\n",
      "Analogous uniform limb Rp/Rs = 0.1443\n",
      "     = 1.0000 x evening limb \n",
      "     = 1.0000 x morning limb \n",
      "Expected shift (method 2) = -0.00 seconds\n"
     ]
    },
    {
     "name": "stderr",
     "output_type": "stream",
     "text": [
      "100%|██████████| 5500/5500 [00:29<00:00, 188.98it/s]"
     ]
    },
    {
     "name": "stdout",
     "output_type": "stream",
     "text": [
      "==================================================\n",
      "Step 2 of 10\n",
      "testing N = 0.56\n",
      "dR = 678787.3 m (0.6 scale heights, 0.93 percent of Rp)\n",
      "Evening limb radius = 73304656.7 m\n",
      "Morning limb radius = 73983444.1 m\n",
      "Analogous uniform limb radius = 73644832.5 m\n",
      "     = 1.0046 x evening limb \n",
      "     = 0.9954 x morning limb \n",
      "dr = 0.0013 \n",
      "Evening limb Rp/Rs = 0.1443\n",
      "Morning limb Rp/Rs = 0.1457\n",
      "Analogous uniform limb Rp/Rs = 0.1450\n",
      "     = 1.0046 x evening limb \n",
      "     = 0.9954 x morning limb \n",
      "Expected shift (method 2) = -5.78 seconds\n"
     ]
    },
    {
     "name": "stderr",
     "output_type": "stream",
     "text": [
      "\n",
      "100%|██████████| 5500/5500 [00:28<00:00, 192.72it/s]"
     ]
    },
    {
     "name": "stdout",
     "output_type": "stream",
     "text": [
      "==================================================\n",
      "Step 3 of 10\n",
      "testing N = 1.11\n",
      "dR = 1357574.7 m (1.1 scale heights, 1.85 percent of Rp)\n",
      "Evening limb radius = 73304656.7 m\n",
      "Morning limb radius = 74662231.4 m\n",
      "Analogous uniform limb radius = 73986557.9 m\n",
      "     = 1.0093 x evening limb \n",
      "     = 0.9910 x morning limb \n",
      "dr = 0.0027 \n",
      "Evening limb Rp/Rs = 0.1443\n",
      "Morning limb Rp/Rs = 0.1470\n",
      "Analogous uniform limb Rp/Rs = 0.1457\n",
      "     = 1.0093 x evening limb \n",
      "     = 0.9910 x morning limb \n",
      "Expected shift (method 2) = -11.56 seconds\n"
     ]
    },
    {
     "name": "stderr",
     "output_type": "stream",
     "text": [
      "\n",
      "100%|██████████| 5500/5500 [00:28<00:00, 191.34it/s]"
     ]
    },
    {
     "name": "stdout",
     "output_type": "stream",
     "text": [
      "==================================================\n",
      "Step 4 of 10\n",
      "testing N = 1.67\n",
      "dR = 2036362.0 m (1.7 scale heights, 2.78 percent of Rp)\n",
      "Evening limb radius = 73304656.7 m\n",
      "Morning limb radius = 75341018.7 m\n",
      "Analogous uniform limb radius = 74329811.7 m\n",
      "     = 1.0140 x evening limb \n",
      "     = 0.9866 x morning limb \n",
      "dr = 0.0040 \n",
      "Evening limb Rp/Rs = 0.1443\n",
      "Morning limb Rp/Rs = 0.1483\n",
      "Analogous uniform limb Rp/Rs = 0.1464\n",
      "     = 1.0140 x evening limb \n",
      "     = 0.9866 x morning limb \n",
      "Expected shift (method 2) = -17.33 seconds\n"
     ]
    },
    {
     "name": "stderr",
     "output_type": "stream",
     "text": [
      "\n",
      "100%|██████████| 5500/5500 [00:32<00:00, 169.09it/s]"
     ]
    },
    {
     "name": "stdout",
     "output_type": "stream",
     "text": [
      "==================================================\n",
      "Step 5 of 10\n",
      "testing N = 2.22\n",
      "dR = 2715149.3 m (2.2 scale heights, 3.70 percent of Rp)\n",
      "Evening limb radius = 73304656.7 m\n",
      "Morning limb radius = 76019806.1 m\n",
      "Analogous uniform limb radius = 74674572.7 m\n",
      "     = 1.0187 x evening limb \n",
      "     = 0.9823 x morning limb \n",
      "dr = 0.0053 \n",
      "Evening limb Rp/Rs = 0.1443\n",
      "Morning limb Rp/Rs = 0.1497\n",
      "Analogous uniform limb Rp/Rs = 0.1470\n",
      "     = 1.0187 x evening limb \n",
      "     = 0.9823 x morning limb \n",
      "Expected shift (method 2) = -23.11 seconds\n"
     ]
    },
    {
     "name": "stderr",
     "output_type": "stream",
     "text": [
      "\n",
      "100%|██████████| 5500/5500 [00:28<00:00, 195.22it/s]"
     ]
    },
    {
     "name": "stdout",
     "output_type": "stream",
     "text": [
      "==================================================\n",
      "Step 6 of 10\n",
      "testing N = 2.78\n",
      "dR = 3393936.7 m (2.8 scale heights, 4.63 percent of Rp)\n",
      "Evening limb radius = 73304656.7 m\n",
      "Morning limb radius = 76698593.4 m\n",
      "Analogous uniform limb radius = 75020820.2 m\n",
      "     = 1.0234 x evening limb \n",
      "     = 0.9781 x morning limb \n",
      "dr = 0.0067 \n",
      "Evening limb Rp/Rs = 0.1443\n",
      "Morning limb Rp/Rs = 0.1510\n",
      "Analogous uniform limb Rp/Rs = 0.1477\n",
      "     = 1.0234 x evening limb \n",
      "     = 0.9781 x morning limb \n",
      "Expected shift (method 2) = -28.89 seconds\n"
     ]
    },
    {
     "name": "stderr",
     "output_type": "stream",
     "text": [
      "\n",
      "100%|██████████| 5500/5500 [00:28<00:00, 192.88it/s]"
     ]
    },
    {
     "name": "stdout",
     "output_type": "stream",
     "text": [
      "==================================================\n",
      "Step 7 of 10\n",
      "testing N = 3.33\n",
      "dR = 4072724.0 m (3.3 scale heights, 5.56 percent of Rp)\n",
      "Evening limb radius = 73304656.7 m\n",
      "Morning limb radius = 77377380.7 m\n",
      "Analogous uniform limb radius = 75368533.7 m\n",
      "     = 1.0282 x evening limb \n",
      "     = 0.9740 x morning limb \n",
      "dr = 0.0080 \n",
      "Evening limb Rp/Rs = 0.1443\n",
      "Morning limb Rp/Rs = 0.1524\n",
      "Analogous uniform limb Rp/Rs = 0.1484\n",
      "     = 1.0282 x evening limb \n",
      "     = 0.9740 x morning limb \n",
      "Expected shift (method 2) = -34.67 seconds\n"
     ]
    },
    {
     "name": "stderr",
     "output_type": "stream",
     "text": [
      "\n",
      "100%|██████████| 5500/5500 [00:29<00:00, 184.95it/s]"
     ]
    },
    {
     "name": "stdout",
     "output_type": "stream",
     "text": [
      "==================================================\n",
      "Step 8 of 10\n",
      "testing N = 3.89\n",
      "dR = 4751511.3 m (3.9 scale heights, 6.48 percent of Rp)\n",
      "Evening limb radius = 73304656.7 m\n",
      "Morning limb radius = 78056168.1 m\n",
      "Analogous uniform limb radius = 75717693.0 m\n",
      "     = 1.0329 x evening limb \n",
      "     = 0.9700 x morning limb \n",
      "dr = 0.0094 \n",
      "Evening limb Rp/Rs = 0.1443\n",
      "Morning limb Rp/Rs = 0.1537\n",
      "Analogous uniform limb Rp/Rs = 0.1491\n",
      "     = 1.0329 x evening limb \n",
      "     = 0.9700 x morning limb \n",
      "Expected shift (method 2) = -40.44 seconds\n"
     ]
    },
    {
     "name": "stderr",
     "output_type": "stream",
     "text": [
      "\n",
      "100%|██████████| 5500/5500 [00:29<00:00, 184.25it/s]"
     ]
    },
    {
     "name": "stdout",
     "output_type": "stream",
     "text": [
      "==================================================\n",
      "Step 9 of 10\n",
      "testing N = 4.44\n",
      "dR = 5430298.6 m (4.4 scale heights, 7.41 percent of Rp)\n",
      "Evening limb radius = 73304656.7 m\n",
      "Morning limb radius = 78734955.4 m\n",
      "Analogous uniform limb radius = 76068278.2 m\n",
      "     = 1.0377 x evening limb \n",
      "     = 0.9661 x morning limb \n",
      "dr = 0.0107 \n",
      "Evening limb Rp/Rs = 0.1443\n",
      "Morning limb Rp/Rs = 0.1550\n",
      "Analogous uniform limb Rp/Rs = 0.1498\n",
      "     = 1.0377 x evening limb \n",
      "     = 0.9661 x morning limb \n",
      "Expected shift (method 2) = -46.22 seconds\n"
     ]
    },
    {
     "name": "stderr",
     "output_type": "stream",
     "text": [
      "\n",
      "100%|██████████| 5500/5500 [00:28<00:00, 194.92it/s]"
     ]
    },
    {
     "name": "stdout",
     "output_type": "stream",
     "text": [
      "==================================================\n",
      "Step 10 of 10\n",
      "testing N = 5.00\n",
      "dR = 6109086.0 m (5.0 scale heights, 8.33 percent of Rp)\n",
      "Evening limb radius = 73304656.7 m\n",
      "Morning limb radius = 79413742.7 m\n",
      "Analogous uniform limb radius = 76420269.7 m\n",
      "     = 1.0425 x evening limb \n",
      "     = 0.9623 x morning limb \n",
      "dr = 0.0120 \n",
      "Evening limb Rp/Rs = 0.1443\n",
      "Morning limb Rp/Rs = 0.1564\n",
      "Analogous uniform limb Rp/Rs = 0.1505\n",
      "     = 1.0425 x evening limb \n",
      "     = 0.9623 x morning limb \n",
      "Expected shift (method 2) = -52.00 seconds\n"
     ]
    },
    {
     "name": "stderr",
     "output_type": "stream",
     "text": [
      "\n",
      "100%|██████████| 5500/5500 [00:28<00:00, 190.09it/s]\n"
     ]
    }
   ],
   "source": [
    "## -- Run the numerical simulation\n",
    "## -- Goal: for a range of input, injected limb asymmetries ... record how the best-fit\n",
    "##       time of conjunctions deviate from the true value when fitting the data using a \n",
    "##       uniform-limb transit model\n",
    "## -- Things to save:\n",
    "##      - best-fit tc and uncertainties\n",
    "#       - the \"true\" light curve (i.e. what data was initialized off of)\n",
    "#       - the \"best-fit\" light curve (i.e. the uniform-limb model with the best-fit, deviated tc)\n",
    "\n",
    "# Define N values to test (delta R = N * scale height)\n",
    "Nvals = np.linspace(0., 5.0, 10) \n",
    "# Set up arrays of to-be-saved quantities\n",
    "dt_fits = np.zeros(len(Nvals))    # best-fit tc - true tc, in [s]\n",
    "dt_pluserrs = np.zeros(len(Nvals))\n",
    "dt_minuserrs = np.zeros(len(Nvals))\n",
    "dt_fiterrs = np.zeros(len(Nvals)) # uncertainty on above (i.e. uncertainty on best-fit tc), in [s]\n",
    "dt_calcs = np.zeros(len(Nvals))   # an estimate of dt\n",
    "true_lightcurves = np.zeros((len(Nvals), len(t)))\n",
    "bestfit_lightcurves = np.zeros((len(Nvals), len(t)))\n",
    "\n",
    "# Run the simulation ....\n",
    "for iN, N in enumerate(Nvals):\n",
    "    print('='*50)\n",
    "    print('Step %d of %d'%(iN+1, len(Nvals)))\n",
    "    print('testing N = %.2f'%(N))\n",
    " \n",
    "    # set the evening limb to some pre-defined value, that doesn't change\n",
    "    Rp_evening_meter = Rp_meter # true evening-limb radius in [m]\n",
    "    rprs_evening = Rp_evening_meter / Rs_meter\n",
    "    # define limb extension\n",
    "    dR_meter = N * H # difference btwn. evening- and morning-limb radii in [m]\n",
    "    # extend morning by this amount\n",
    "    Rp_morning_meter = Rp_evening_meter + dR_meter # true morning-limb radius in [m]\n",
    "    rprs_morning = Rp_morning_meter / Rs_meter\n",
    "    # and calculate Rp based on analagous homogeneous transit depth\n",
    "    #Rp_uniform_m = np.sqrt((Rp_evening_m**2) + (Rp_evening_m * dR_m) + (dR_m**2)) # in [m]\n",
    "    Rp_uniform_meter = np.sqrt(0.5*(Rp_evening_meter**2 + Rp_morning_meter**2))\n",
    "    rprs_uniform = Rp_uniform_meter / Rs_meter\n",
    "\n",
    "    print('dR = %.1f m (%.1f scale heights, %.2f percent of Rp)'%(dR_meter, N, (100.*dR_meter/Rp_evening_meter)))\n",
    "    print('Evening limb radius = %.1f m'%(Rp_evening_meter))\n",
    "    print('Morning limb radius = %.1f m'%(Rp_morning_meter))\n",
    "    print('Analogous uniform limb radius = %.1f m'%(Rp_uniform_meter))\n",
    "    print('     = %.4f x evening limb '%(Rp_uniform_meter / Rp_evening_meter))\n",
    "    print('     = %.4f x morning limb '%(Rp_uniform_meter / Rp_morning_meter))\n",
    "\n",
    "    # compute corresponding rp/rs values, using pre-defined stellar radius\n",
    "    dr = dR_meter / Rs_meter # difference btwn. evening- and morning-limb Rp/Rs\n",
    "    #r_evening = Rp_evening_m / Rs_meter # true evening-limb Rp/Rs\n",
    "    #r_morning = Rp_morning_m / Rs_meter # true morning-limb Rp/Rs\n",
    "    #r_uniform = Rp_uniform_m / Rs_meter # \"equivalent\" uniform-limb Rp/Rs (one that preserves total depth)\n",
    "    print('dr = %.4f '%(dr))\n",
    "    print('Evening limb Rp/Rs = %.4f'%(rprs_evening))\n",
    "    print('Morning limb Rp/Rs = %.4f'%(rprs_morning))\n",
    "    print('Analogous uniform limb Rp/Rs = %.4f'%(rprs_uniform))\n",
    "    print('     = %.4f x evening limb '%(rprs_uniform / rprs_evening))\n",
    "    print('     = %.4f x morning limb '%(rprs_uniform / rprs_morning))\n",
    "\n",
    "    # calculate expected shift in transit midpoint via method 1\n",
    "    #dt_numerator1 = (Rp_morning_m + Rp_evening_m) - 2.*Rp_uniform_m\n",
    "    #dt_expected1_sec = (dt_numerator1) / (2.*v_orb) # [s]\n",
    "    #dt_expected1_day = dt_expected1_sec / day_to_second \n",
    "    # calculate expected shift via method 2\n",
    "    d_pathlength = - dR_meter\n",
    "    dt_expected2_sec = (d_pathlength) / (v_orb)\n",
    "\n",
    "    #print('Expected shift (method 1) = %.2f seconds'%(dt_expected1_sec))\n",
    "    print('Expected shift (method 2) = %.2f seconds'%(dt_expected2_sec))\n",
    "    \n",
    "    # update transit model parameters\n",
    "    # asymmetric transit:\n",
    "    #    doing them from scratch to prevent aliasing errors\n",
    "    # For the \"true\" asymmetric planet\n",
    "    testparams_a  = catwoman.TransitParams()\n",
    "    testparams_a.t0 = tc            #time of inferior conjuction (in days)\n",
    "    testparams_a.per = per            #orbital period (in days)\n",
    "    testparams_a.rp = rprs_evening    #top semi-circle radius (in units of stellar radii)\n",
    "    testparams_a.rp2 = rprs_morning   #bottom semi-circle radius (in units of stellar radii)\n",
    "    testparams_a.phi = phi          #angle of rotation of top semi-circle (in degrees)\n",
    "    testparams_a.a = a            #semi-major axis (in units of stellar radii)\n",
    "    testparams_a.inc = inc          # orbital inclination (in degrees)\n",
    "    testparams_a.ecc = ecc          #eccentricity\n",
    "    testparams_a.w = w              #longitude of periastron (in degrees)\n",
    "    testparams_a.limb_dark = \"uniform\"  #limbs darkening model\n",
    "    # analogous uniform transit:\n",
    "    #uparams.rp = r_uniform # equivalent depth Rp/Rs\n",
    "\n",
    "    # generate the \"true\" light curve to use for data initialization\n",
    "    lc_asym = asymmodel.light_curve(testparams_a)\n",
    "    #lc_unif = unifmodel.light_curve(uparams)\n",
    "    # save this \"true\" light curve\n",
    "    true_lightcurves[iN,:] = np.copy(lc_asym)\n",
    "\n",
    "    # generate synthetic data around asymmetric light curve\n",
    "    y_sim, yerr_sim = np.zeros(len(lc_asym)), np.zeros(len(lc_asym))\n",
    "    scatter = 200. / 1.e6 # LC scatter in [ppm] (converted to decimal)\n",
    "    for i, time in enumerate(t):\n",
    "        y_sim[i] = lc_asym[i] + np.random.normal(loc=0., scale=scatter) # injects uncorrelated Gaussian noise\n",
    "        yerr_sim = scatter # assume uncertainty = scatter\n",
    "        \n",
    "    # set up the MCMC...\n",
    "    # initial tc = the truth, with an initialization ball of ~seconds\n",
    "    tc_init = tc\n",
    "    tc_initerr = (1.0) /24./24./60.\n",
    "\n",
    "    Ndim = 1 # N parameters = 1 -- just tc\n",
    "    Nwalkers = 5 # N mcmc walkers\n",
    "    pos = np.zeros((Nwalkers, Ndim)) # set up initial walker positions\n",
    "    pos[:,0] = tc_init + np.random.normal(0., tc_initerr, Nwalkers)\n",
    "\n",
    "    Nburn = 500 # burn-in steps\n",
    "    Nsteps = 5000 + Nburn # steps to run mcmc sampling\n",
    "    # run the MCMC ...\n",
    "    with Pool() as pool:\n",
    "        sampler = emcee.EnsembleSampler(Nwalkers, Ndim, lnPosterior, pool=pool,\n",
    "                                       args=(t, y_sim, yerr_sim, rprs_uniform, unifmodel))\n",
    "        sampler.run_mcmc(pos, Nsteps, progress=True)\n",
    "    # get the walker positions\n",
    "    samples = sampler.get_chain(discard=Nburn)\n",
    "    flatsamples = sampler.get_chain(discard=Nburn, flat=True)\n",
    "    \n",
    "    # compute best-fit tc, with the uniform-limb model\n",
    "    tc_bestfit = np.median(flatsamples[:,0]) # \"best-fit\", median of posterior\n",
    "    tc_pluserr = np.percentile(flatsamples[:,0], 84) - tc_bestfit # the upper 1-sigma error bar, based on 84th percentile of posterior\n",
    "    tc_minuserr = tc_bestfit - np.percentile(flatsamples[:,0], 16) # the lower 1-sigma error bar, based on 16th percentile of posterior\n",
    "    tc_besterr = np.mean((tc_pluserr, tc_minuserr)) # the \"average\" error bar for simplicity, assuming the posterior is a Gaussian\n",
    "    # determine deviation between best-fit tc and true tc\n",
    "    dt_bestfit_sec = (tc_bestfit - tc)*day_to_second\n",
    "    dt_besterr_sec = tc_besterr*day_to_second\n",
    "    # save values\n",
    "    dt_fits[iN] = dt_bestfit_sec\n",
    "    dt_pluserrs[iN] = (tc_pluserr*day_to_second)\n",
    "    dt_minuserrs[iN] = (tc_minuserr*day_to_second)\n",
    "    dt_fiterrs[iN] = dt_besterr_sec\n",
    "    dt_calcs[iN] = dt_expected2_sec\n",
    "    \n",
    "    # generate \"best-fit\" light curve\n",
    "    ## -- Batman:\n",
    "    ufitparams  = batman.TransitParams()\n",
    "    ufitparams.t0 = tc_bestfit                          #time of inferior conjuction (in days)\n",
    "    ufitparams.per = per                         #orbital period (in days)\n",
    "    ufitparams.rp = rprs_uniform                        #top semi-circle radius (in units of stellar radii)\n",
    "    ufitparams.a = a                         #semi-major axis (in units of stellar radii)\n",
    "    ufitparams.inc = inc                        #orbital inclination (in degrees)\n",
    "    ufitparams.ecc = ecc                        #eccentricity\n",
    "    ufitparams.w = w                         #longitude of periastron (in degrees)\n",
    "    ufitparams.u = []                   #limb darkening coefficients [u1, u2]\n",
    "    ufitparams.limb_dark = \"uniform\"          #limbs darkening model\n",
    "    bf_unifmodel = batman.TransitModel(ufitparams,t)         #initalises model\n",
    "    bf_unifLC = bf_unifmodel.light_curve(ufitparams)\n",
    "    bestfit_lightcurves[iN,:] = bf_unifLC"
   ]
  },
  {
   "cell_type": "code",
   "execution_count": 9,
   "metadata": {},
   "outputs": [
    {
     "data": {
      "image/png": "[encoded data removed]",
      "text/plain": [
       "<Figure size 800x400 with 1 Axes>"
      ]
     },
     "metadata": {},
     "output_type": "display_data"
    }
   ],
   "source": [
    "## -- check timing bias\n",
    "fig, ax = plt.subplots(figsize=(8,4))\n",
    "ax.errorbar(Nvals, abs(dt_fits), dt_fiterrs, ls='None', c='black', marker='o', label='Fits')\n",
    "#\n",
    "#ax.plot(Nvals, abs(0.5*dt_calcs), c='blue', label='Analytic')\n",
    "#ax.plot(Nvals, (5./4.)*abs(0.5*dt_calcs), c='blue', ls='--', label='Analytic * 5/4')\n",
    "#ax.plot(Nvals, test, c='blue', label='1.35*Analytic')\n",
    "ax.set(xlabel='N', ylabel='dt')\n",
    "ax.legend(loc='best')\n",
    "plt.show()"
   ]
  },
  {
   "cell_type": "code",
   "execution_count": 10,
   "metadata": {},
   "outputs": [],
   "source": [
    "save_results = True\n",
    "if save_results:\n",
    "    filename = './newresults_realcadence_200ppmnoise_wasp107b_uniformLD.npz'\n",
    "    np.savez(filename,\n",
    "            Nvals=Nvals, Hval=H, dt_fits=dt_fits, dt_fiterrs=dt_fiterrs, \n",
    "            dt_pluserrs=dt_pluserrs, dt_minuserrs=dt_minuserrs,\n",
    "            true_lightcurves=true_lightcurves, bestfit_lightcurves=bestfit_lightcurves,\n",
    "            dt_cals=dt_calcs,\n",
    "            time_axis=t)"
   ]
  },
  {
   "cell_type": "code",
   "execution_count": null,
   "metadata": {},
   "outputs": [],
   "source": []
  }
 ],
 "metadata": {
  "kernelspec": {
   "display_name": "Python 3",
   "language": "python",
   "name": "python3"
  },
  "language_info": {
   "codemirror_mode": {
    "name": "ipython",
    "version": 3
   },
   "file_extension": ".py",
   "mimetype": "text/x-python",
   "name": "python",
   "nbconvert_exporter": "python",
   "pygments_lexer": "ipython3",
   "version": "3.8.8"
  }
 },
 "nbformat": 4,
 "nbformat_minor": 4
}
