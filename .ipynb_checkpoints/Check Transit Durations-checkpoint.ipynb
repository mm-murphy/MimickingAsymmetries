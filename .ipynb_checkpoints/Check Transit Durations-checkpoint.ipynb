{
 "cells": [
  {
   "cell_type": "markdown",
   "id": "ead0a81b-cfab-443e-8a4c-b241df2e8a9f",
   "metadata": {},
   "source": [
    "This notebook is for running tests for the first referee report."
   ]
  },
  {
   "cell_type": "code",
   "execution_count": 1,
   "id": "8732e6b0-acdc-4fd7-8899-8e6323c32e45",
   "metadata": {},
   "outputs": [],
   "source": [
    "import numpy as np\n",
    "import matplotlib.pyplot as plt\n",
    "import catwoman, batman"
   ]
  },
  {
   "cell_type": "code",
   "execution_count": 2,
   "id": "0332b3e3-b4f9-4600-bbb6-65745d37c688",
   "metadata": {},
   "outputs": [],
   "source": [
    "## some useful conversions\n",
    "AU_to_meter = 1.496e11\n",
    "day_to_second = 24.*60.*60.\n",
    "Rsun_to_meter = 6.957e8\n",
    "Rjup_to_meter = 7.149e7\n",
    "Mjup_to_kg = 1.899e27\n",
    "\n",
    "## handy calculations\n",
    "## functions to measure the points of transit contact\n",
    "def get_T1_index(time, y):\n",
    "    # get the index where T1 occurs\n",
    "    # defined as where model flux first goes < 1\n",
    "    pretransit_idxs = np.where((y == 1.0) & (time < np.median(time)))[0] # 'oot' indexes\n",
    "    T1_idx = pretransit_idxs[-1] \n",
    "    return T1_idx\n",
    "def get_T4_index(time, y):\n",
    "    # get the index where T4 occurs\n",
    "    # defined as where model flux last goes = 1\n",
    "    posttransit_idxs = np.where((y == 1.0) & (time > np.median(time)))[0] # 'oot' indexes\n",
    "    T4_idx = posttransit_idxs[0] \n",
    "    return T4_idx\n",
    "\n",
    "def calc_H(T, M, R, mm=2.3):\n",
    "    \"\"\" Calculates the approximate scale height of a planet's atmosphere, using the equation\n",
    "     scale height = kT / mg\n",
    "    \n",
    "    Inputs: T = the atmospheric temperature in [K]; M = the planet's mass in [kg]; \n",
    "            R = the planet's radius in [m]; mm = mean mass of a molecule in the atmosphere [amu], this is\n",
    "                   default set to 1 amu = 1 proton mass (for now)\n",
    "    Outputs: H = the scale height in [m]\n",
    "    \"\"\"\n",
    "    # constants:\n",
    "    amu = 1.67e-27 # [kg]; atomic mass unit in [kg]\n",
    "    k = 1.38e-23 # [Joule/K]; Boltzmann constant\n",
    "    G = 6.674e-11 # [m^3/kg/s^2]; Gravitational constant\n",
    "    Mjupiter = 1.9e27 # [kg]; mass of Jupiter\n",
    "    Rjupiter = 69911000.0 # [m]; approx. radius of Jupiter\n",
    "    # computing the numerator for the scale height equation:\n",
    "    E_thermal = k*T # [Joule]\n",
    "    # computing the denominator:\n",
    "    g = G*M/(R**2) # gravitational acceleration in [m/s^2]\n",
    "    meanmass = mm*amu\n",
    "    denominator = meanmass*g # [kg*m/s^2]\n",
    "    # compute the scale height:\n",
    "    H = E_thermal / denominator # [meters]\n",
    "    return H\n",
    "\n",
    "def tweighted(t, f):\n",
    "    numerator = (1. - f)*t\n",
    "    den = (1. - f)\n",
    "    tmid = np.sum(numerator) / np.sum(den)\n",
    "    return tmid"
   ]
  },
  {
   "cell_type": "markdown",
   "id": "3e9656c0-4d82-449f-adb2-3bbe311d541e",
   "metadata": {},
   "source": [
    "Test 1 -- This is for their comment about the transit durations. Test whether the total transit durations for an asymmetric vs. uniform-limb planet are equal or not as a function of the degree of limb asymmetry."
   ]
  },
  {
   "cell_type": "code",
   "execution_count": 7,
   "id": "b1a32eca-46ee-4759-a713-84200fe52f95",
   "metadata": {},
   "outputs": [],
   "source": [
    "# create a planet (using WASP-39b parameters)\n",
    "tc = 0. # [day]\n",
    "per = 4.0552941 # [day]\n",
    "a = 11.55 # [stellar radii]\n",
    "inc = 90. #87.32 # [degrees]\n",
    "phi = 90.\n",
    "ecc = 0.\n",
    "w = 90.\n",
    "r = 0.1457 # [stellar radii]\n",
    "Rs = 0.92868 # [Rsun]\n",
    "Mp_jup = 0.281 # [jupiter masses]\n",
    "Teq = 1166.0 # [K]\n",
    "T14 = 2.8032 # duration [hours]\n",
    "\n",
    "# calculate things in physical units\n",
    "a_meter = a * Rs * Rsun_to_meter\n",
    "per_seconds = per*day_to_second\n",
    "Rs_meter = Rs * Rsun_to_meter\n",
    "Rp_meter = r * Rs_meter\n",
    "Mp_kg = Mp_jup * Mjup_to_kg\n",
    "\n",
    "# calculate other things\n",
    "v_orb = (2.*np.pi*a_meter) / (per_seconds) # [m/s]\n",
    "H = calc_H(Teq, Mp_kg, Rp_meter, mm=2.3) # [m]\n",
    "\n",
    "# fine time axis:\n",
    "t_int = .1 # [s] per integration\n",
    "obs_window_size = (1.*T14) / 24. # half-duration of whole observation in [day]\n",
    "t = np.arange(-obs_window_size, obs_window_size, (t_int / 60./60./24.))\n",
    "\n",
    "## -- Initialize Catwoman model:\n",
    "aparams  = catwoman.TransitParams()\n",
    "aparams.t0 = tc                          #time of inferior conjuction (in days)\n",
    "aparams.per = per                         #orbital period (in days)\n",
    "aparams.rp = r                        #top semi-circle radius (in units of stellar radii)\n",
    "aparams.rp2 = r                        #bottom semi-circle radius (in units of stellar radii)\n",
    "aparams.a = a                         #semi-major axis (in units of stellar radii)\n",
    "aparams.inc = inc                        #orbital inclination (in degrees)\n",
    "aparams.ecc = ecc                        #eccentricity\n",
    "aparams.w = w                         #longitude of periastron (in degrees)\n",
    "aparams.limb_dark = \"uniform\"          #limbs darkening model\n",
    "aparams.phi = phi                         #angle of rotation of top semi-circle (in degrees)\n",
    "asymmodel = catwoman.TransitModel(aparams,t)         #initalises model\n",
    "\n",
    "## -- Initialize Batman model:\n",
    "uparams  = batman.TransitParams()\n",
    "uparams.t0 = tc                          #time of inferior conjuction (in days)\n",
    "uparams.per = per                         #orbital period (in days)\n",
    "uparams.rp = r                        #top semi-circle radius (in units of stellar radii)\n",
    "uparams.a = a                         #semi-major axis (in units of stellar radii)\n",
    "uparams.inc = inc                        #orbital inclination (in degrees)\n",
    "uparams.ecc = ecc                        #eccentricity\n",
    "uparams.w = w                         #longitude of periastron (in degrees)\n",
    "uparams.u = []                   #limb darkening coefficients [u1, u2]\n",
    "uparams.limb_dark = \"uniform\"          #limbs darkening model\n",
    "unifmodel = batman.TransitModel(uparams,t)         #initalises model"
   ]
  },
  {
   "cell_type": "code",
   "execution_count": 8,
   "id": "81cce94b-9266-4f3f-9aeb-266e821eccf8",
   "metadata": {},
   "outputs": [
    {
     "data": {
      "image/png": "[encoded data removed]",
      "text/plain": [
       "<Figure size 500x300 with 1 Axes>"
      ]
     },
     "metadata": {},
     "output_type": "display_data"
    }
   ],
   "source": [
    "fig, ax = plt.subplots(figsize=(5,3))\n",
    "ax.plot(t, asymmodel.light_curve(aparams))\n",
    "ax.plot(t, unifmodel.light_curve(uparams))\n",
    "plt.show()"
   ]
  },
  {
   "cell_type": "code",
   "execution_count": 9,
   "id": "09780f9a-a771-4351-accb-b73e94ee21c3",
   "metadata": {},
   "outputs": [],
   "source": [
    "# Define N values to test (delta R = N * scale height)\n",
    "Nvals = np.linspace(0., 5.0, 20) \n",
    "# array to save durations\n",
    "T14vals_asym = np.zeros(len(Nvals))\n",
    "T14vals_unif = np.zeros(len(Nvals))\n",
    "# arrays to save flux weighted t_mid\n",
    "Twm_asym = np.zeros(len(Nvals))\n",
    "Twm_unif = np.zeros(len(Nvals))\n",
    "\n",
    "for iN, N in enumerate(Nvals):\n",
    "   # print('='*50)\n",
    "    #print('Step %d of %d'%(iN+1, len(Nvals)))\n",
    "    #print('testing N = %.2f'%(N))\n",
    " \n",
    "    # set the evening limb to some pre-defined value, that doesn't change\n",
    "    Rp_evening_meter = Rp_meter # true evening-limb radius in [m]\n",
    "    rprs_evening = Rp_evening_meter / Rs_meter\n",
    "    # define limb extension\n",
    "    dR_meter = N * H # difference btwn. evening- and morning-limb radii in [m]\n",
    "    # extend morning by this amount\n",
    "    Rp_morning_meter = Rp_evening_meter + dR_meter # true morning-limb radius in [m]\n",
    "    rprs_morning = Rp_morning_meter / Rs_meter\n",
    "    # and calculate Rp based on analagous homogeneous transit depth\n",
    "    #Rp_uniform_m = np.sqrt((Rp_evening_m**2) + (Rp_evening_m * dR_m) + (dR_m**2)) # in [m]\n",
    "    #Rp_uniform_meter = np.sqrt(0.5*(Rp_evening_meter**2 + Rp_morning_meter**2))\n",
    "    #rprs_uniform = Rp_uniform_meter / Rs_meter\n",
    "    rprs_uniform = np.sqrt(0.5*((rprs_evening**2) + (rprs_morning**2)))\n",
    "\n",
    "    # generate the AL light curve\n",
    "    testparams_a  = catwoman.TransitParams()\n",
    "    testparams_a.t0 = tc            #time of inferior conjuction (in days)\n",
    "    testparams_a.per = per            #orbital period (in days)\n",
    "    testparams_a.rp = rprs_evening    #top semi-circle radius (in units of stellar radii)\n",
    "    testparams_a.rp2 = rprs_morning   #bottom semi-circle radius (in units of stellar radii)\n",
    "    testparams_a.phi = phi          #angle of rotation of top semi-circle (in degrees)\n",
    "    testparams_a.a = a            #semi-major axis (in units of stellar radii)\n",
    "    testparams_a.inc = inc          # orbital inclination (in degrees)\n",
    "    testparams_a.ecc = ecc          #eccentricity\n",
    "    testparams_a.w = w              #longitude of periastron (in degrees)\n",
    "    testparams_a.limb_dark = \"uniform\"  #limbs darkening model\n",
    "    lc_asym = asymmodel.light_curve(testparams_a)\n",
    "\n",
    "    # calculate AL light curve transit duration\n",
    "    T1_asym = t[get_T1_index(t, lc_asym)]\n",
    "    T4_asym = t[get_T4_index(t, lc_asym)]\n",
    "    T14_asym = T4_asym - T1_asym\n",
    "    T14vals_asym[iN] = T14_asym\n",
    "    # calculate weighted mid transit time, per suggestion\n",
    "    Twm_asym[iN] = tweighted(t, lc_asym)\n",
    "\n",
    "    # generate the UL light curve\n",
    "    testparams_u  = catwoman.TransitParams()\n",
    "    testparams_u.t0 = tc            #time of inferior conjuction (in days)\n",
    "    testparams_u.per = per            #orbital period (in days)\n",
    "    testparams_u.rp = rprs_uniform    #top semi-circle radius (in units of stellar radii)\n",
    "    testparams_u.rp2 = rprs_uniform\n",
    "    testparams_u.phi = phi\n",
    "    testparams_u.a = a            #semi-major axis (in units of stellar radii)\n",
    "    testparams_u.inc = inc          # orbital inclination (in degrees)\n",
    "    testparams_u.ecc = ecc          #eccentricity\n",
    "    testparams_u.w = w              #longitude of periastron (in degrees)\n",
    "    testparams_u.limb_dark = \"uniform\"  #limbs darkening model\n",
    "    testparams_u.u = []\n",
    "    lc_unif = asymmodel.light_curve(testparams_u)\n",
    "\n",
    "    # calculate UL light curve transit duration\n",
    "    T1_unif = t[get_T1_index(t, lc_unif)]\n",
    "    T4_unif = t[get_T4_index(t, lc_unif)]\n",
    "    T14_unif = T4_unif - T1_unif\n",
    "    T14vals_unif[iN] = T14_unif\n",
    "    # \n",
    "    Twm_unif[iN] = tweighted(t, lc_unif)"
   ]
  },
  {
   "cell_type": "code",
   "execution_count": 10,
   "id": "e7299c9b-c5c7-4fb8-bebf-a255d3285f31",
   "metadata": {},
   "outputs": [
    {
     "data": {
      "image/png": "[encoded data removed]",
      "text/plain": [
       "<Figure size 600x300 with 1 Axes>"
      ]
     },
     "metadata": {},
     "output_type": "display_data"
    }
   ],
   "source": [
    "fig, ax = plt.subplots(figsize=(6,3))\n",
    "ax.axhline(0., c='black', lw=1)\n",
    "ax.plot(Nvals, (T14vals_asym - T14vals_unif)*24.*60.*60., marker='o', ms=6, c='black')\n",
    "ax.set_xlabel('N', fontsize=12)\n",
    "ax.set_ylabel(r'$\\Delta T_{14}$ [s]', fontsize=12)\n",
    "plt.show()"
   ]
  },
  {
   "cell_type": "code",
   "execution_count": 107,
   "id": "0128ed94-0a41-4aae-bf27-b7cbd289b378",
   "metadata": {},
   "outputs": [
    {
     "data": {
      "image/png": "[encoded data removed]",
      "text/plain": [
       "<Figure size 600x300 with 1 Axes>"
      ]
     },
     "metadata": {},
     "output_type": "display_data"
    }
   ],
   "source": [
    "fig, ax = plt.subplots(figsize=(6,3))\n",
    "ax.axhline(0., c='black', lw=1)\n",
    "ax.plot(Nvals, (Twm_asym)*24.*60.*60., marker='o', ms=6, c='black')\n",
    "ax.plot(Nvals, (Twm_unif)*24.*60.*60., marker='o', ms=6, c='black')\n",
    "ax.set_xlabel('N', fontsize=12)\n",
    "ax.set_ylabel(r'Weighted $T_{mid}$ [s]', fontsize=12)\n",
    "plt.show()"
   ]
  },
  {
   "cell_type": "code",
   "execution_count": 108,
   "id": "f299a0e5-a085-473f-9432-775fba33a9fa",
   "metadata": {},
   "outputs": [
    {
     "data": {
      "text/plain": [
       "array([ 1.44119407e-08, -1.30610095e+00, -2.61222297e+00, -3.91832182e+00,\n",
       "       -5.22433960e+00, -6.53027595e+00, -7.83621148e+00, -9.14199927e+00,\n",
       "       -1.04477328e+01, -1.17534023e+01, -1.30589336e+01, -1.43643045e+01,\n",
       "       -1.56696365e+01, -1.69747731e+01, -1.82798118e+01, -1.95846475e+01,\n",
       "       -2.08893744e+01, -2.21938870e+01, -2.34981948e+01, -2.48023589e+01])"
      ]
     },
     "execution_count": 108,
     "metadata": {},
     "output_type": "execute_result"
    }
   ],
   "source": [
    "Twm_asym*24.*60.*60."
   ]
  },
  {
   "cell_type": "code",
   "execution_count": 94,
   "id": "039754e6-5dda-41fd-9320-213908b77f3a",
   "metadata": {},
   "outputs": [
    {
     "data": {
      "text/plain": [
       "array([ 0. ,  0.1,  0. ,  0. , -0.1, -0.1, -0.2, -0.3, -0.4, -0.4])"
      ]
     },
     "execution_count": 94,
     "metadata": {},
     "output_type": "execute_result"
    }
   ],
   "source": [
    "(T14vals_asym - T14vals_unif)*24.*60.*60."
   ]
  },
  {
   "cell_type": "code",
   "execution_count": null,
   "id": "439699ae-aaff-4032-87f2-a09d65345b8d",
   "metadata": {},
   "outputs": [],
   "source": []
  }
 ],
 "metadata": {
  "kernelspec": {
   "display_name": "fall",
   "language": "python",
   "name": "fall"
  },
  "language_info": {
   "codemirror_mode": {
    "name": "ipython",
    "version": 3
   },
   "file_extension": ".py",
   "mimetype": "text/x-python",
   "name": "python",
   "nbconvert_exporter": "python",
   "pygments_lexer": "ipython3",
   "version": "3.12.2"
  }
 },
 "nbformat": 4,
 "nbformat_minor": 5
}
