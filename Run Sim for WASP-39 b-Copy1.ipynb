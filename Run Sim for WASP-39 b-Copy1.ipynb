{
 "cells": [
  {
   "cell_type": "code",
   "execution_count": 1,
   "metadata": {},
   "outputs": [],
   "source": [
    "import numpy as np\n",
    "import matplotlib.pyplot as plt\n",
    "import batman, catwoman\n",
    "from multiprocessing import Pool\n",
    "import emcee"
   ]
  },
  {
   "cell_type": "code",
   "execution_count": 2,
   "metadata": {},
   "outputs": [],
   "source": [
    "def calc_H(T, M, R, mm=2.3):\n",
    "    \"\"\" Calculates the approximate scale height of a planet's atmosphere, using the equation\n",
    "     scale height = kT / mg\n",
    "    \n",
    "    Inputs: T = the atmospheric temperature in [K]; M = the planet's mass in [kg]; \n",
    "            R = the planet's radius in [m]; mm = mean mass of a molecule in the atmosphere [amu], this is\n",
    "                   default set to 1 amu = 1 proton mass (for now)\n",
    "    Outputs: H = the scale height in [m]\n",
    "    \"\"\"\n",
    "    # constants:\n",
    "    amu = 1.67e-27 # [kg]; atomic mass unit in [kg]\n",
    "    k = 1.38e-23 # [Joule/K]; Boltzmann constant\n",
    "    G = 6.674e-11 # [m^3/kg/s^2]; Gravitational constant\n",
    "    Mjupiter = 1.9e27 # [kg]; mass of Jupiter\n",
    "    Rjupiter = 69911000.0 # [m]; approx. radius of Jupiter\n",
    "    # computing the numerator for the scale height equation:\n",
    "    E_thermal = k*T # [Joule]\n",
    "    # computing the denominator:\n",
    "    g = G*M/(R**2) # gravitational acceleration in [m/s^2]\n",
    "    meanmass = mm*amu\n",
    "    denominator = meanmass*g # [kg*m/s^2]\n",
    "    # compute the scale height:\n",
    "    H = E_thermal / denominator # [meters]\n",
    "    return H"
   ]
  },
  {
   "cell_type": "code",
   "execution_count": 3,
   "metadata": {},
   "outputs": [],
   "source": [
    "AU_to_meter = 1.496e11\n",
    "day_to_second = 24.*60.*60.\n",
    "Rsun_to_meter = 6.957e8\n",
    "Rjup_to_meter = 7.149e7\n",
    "Mjup_to_kg = 1.899e27"
   ]
  },
  {
   "cell_type": "code",
   "execution_count": 4,
   "metadata": {},
   "outputs": [],
   "source": [
    "# create a planet\n",
    "t0 = 0. # [day]\n",
    "per = 4.0552941 # [day]\n",
    "a = 11.55 # [stellar radii]\n",
    "inc = 87.32 # [degrees]\n",
    "phi = 90.\n",
    "ecc = 0.\n",
    "w = 90.\n",
    "r = 0.1457 # [stellar radii]\n",
    "Rs = 0.92868 # [Rsun]\n",
    "Mp_jup = 0.281 # [jupiter masses]\n",
    "Teq = 1166.0 # [K]\n",
    "T14 = 2.8032 # duration [hours]\n",
    "\n",
    "# calculate things in physical units\n",
    "a_meter = a * Rs * Rsun_to_meter\n",
    "per_seconds = per*day_to_second\n",
    "Rs_meter = Rs * Rsun_to_meter\n",
    "Rp_meter = r * Rs_meter\n",
    "Mp_kg = Mp_jup * Mjup_to_kg\n",
    "\n",
    "# calculate other things\n",
    "v_orb = (2.*np.pi*a_meter) / (per_seconds) # [m/s]\n",
    "H = calc_H(Teq, Mp_kg, Rp_meter, mm=2.3) # [m]\n",
    "\n",
    "# simulated obs. info from or based on pandexo\n",
    "t_int = 79.5 # [s] per integration\n",
    "obs_window_size = (2.5*T14) / 24. # half-duration of whole observation in [day]\n",
    "t = np.arange(-obs_window_size, obs_window_size, (t_int / 60./60./24.))"
   ]
  },
  {
   "cell_type": "code",
   "execution_count": 5,
   "metadata": {},
   "outputs": [
    {
     "name": "stdout",
     "output_type": "stream",
     "text": [
      "H = 1042.34 km\n"
     ]
    }
   ],
   "source": [
    "print('H = %.2f km'%(H/1000.))"
   ]
  },
  {
   "cell_type": "code",
   "execution_count": 6,
   "metadata": {},
   "outputs": [],
   "source": [
    "# initialize transit models\n",
    "#t = np.linspace(-0.1, 0.1, 500)\n",
    "\n",
    "aparams  = catwoman.TransitParams()\n",
    "aparams.t0 = t0                          #time of inferior conjuction (in days)\n",
    "aparams.per = per                         #orbital period (in days)\n",
    "aparams.rp = r                        #top semi-circle radius (in units of stellar radii)\n",
    "aparams.rp2 = r                        #bottom semi-circle radius (in units of stellar radii)\n",
    "aparams.a = a                         #semi-major axis (in units of stellar radii)\n",
    "aparams.inc = inc                        #orbital inclination (in degrees)\n",
    "aparams.ecc = ecc                        #eccentricity\n",
    "aparams.w = w                         #longitude of periastron (in degrees)\n",
    "\n",
    "aparams.limb_dark = \"uniform\"          #limbs darkening model\n",
    "\n",
    "# aparams.limb_dark = \"quadratic\"\n",
    "# aparams.u = [0.1, 0.3]\n",
    "\n",
    "\n",
    "aparams.phi = phi                         #angle of rotation of top semi-circle (in degrees)\n",
    "asymmodel = catwoman.TransitModel(aparams,t)         #initalises model\n",
    "#asymLC = asymmodel.light_curve(params)                #calculates light curve\n",
    "\n",
    "\n",
    "# uparams  = batman.TransitParams()\n",
    "# uparams.t0 = t0                          #time of inferior conjuction (in days)\n",
    "# uparams.per = per                         #orbital period (in days)\n",
    "# uparams.rp = r                        #top semi-circle radius (in units of stellar radii)\n",
    "# uparams.a = a                         #semi-major axis (in units of stellar radii)\n",
    "# uparams.inc = inc                        #orbital inclination (in degrees)\n",
    "# uparams.ecc = ecc                        #eccentricity\n",
    "# uparams.w = w                         #longitude of periastron (in degrees)\n",
    "\n",
    "# uparams.u = []                   #limb darkening coefficients [u1, u2]\n",
    "# uparams.limb_dark = \"uniform\"          #limbs darkening model\n",
    "\n",
    "# # uparams.limb_dark = \"quadratic\"\n",
    "# # uparams.u = [0.1, 0.3]\n",
    "\n",
    "# unifmodel = batman.TransitModel(uparams,t)         #initalises model\n",
    "#unifLC = unifmodel.light_curve(bparams)                #calculates light curve"
   ]
  },
  {
   "cell_type": "code",
   "execution_count": 8,
   "metadata": {},
   "outputs": [
    {
     "data": {
      "image/png": "[encoded data removed]",
      "text/plain": [
       "<Figure size 640x480 with 1 Axes>"
      ]
     },
     "metadata": {},
     "output_type": "display_data"
    }
   ],
   "source": [
    "lc_init = asymmodel.light_curve(aparams)\n",
    "plt.plot(t, lc_init)\n",
    "plt.show()"
   ]
  },
  {
   "cell_type": "code",
   "execution_count": 9,
   "metadata": {},
   "outputs": [],
   "source": [
    "def logLikelihood(ydata, yerr, modely):\n",
    "    \"\"\" Computes the Bayesian likelihood of a model, given the data (or is it the other way around?)\n",
    "    Inputs: ydata = your data, yerr= uncertainties on your data, modely = same size array of the model's values\n",
    "    outputs: ln( the likelihood )\n",
    "    \"\"\"\n",
    "    lnL = 0.\n",
    "    chi_array = ((ydata - modely) ** 2. / yerr ** 2.) + np.log(2. * np.pi * yerr ** 2.)\n",
    "    lnL += -0.5 * np.sum(chi_array)\n",
    "    return lnL\n",
    "\n",
    "def lnPosterior(t0, t, y, yerr, rp1, rp2, inittransitenv):\n",
    "    # generate model LC\n",
    "    fitparams  = catwoman.TransitParams()\n",
    "    fitparams.t0 = t0                          #time of inferior conjuction (in days)\n",
    "    fitparams.per = per                         #orbital period (in days)\n",
    "    fitparams.rp = rp1                        #top semi-circle radius (in units of stellar radii)\n",
    "    fitparams.rp2 = rp2\n",
    "    fitparams.phi = 90.\n",
    "    fitparams.a = a                         #semi-major axis (in units of stellar radii)\n",
    "    fitparams.inc = inc                        #orbital inclination (in degrees)\n",
    "    fitparams.ecc = ecc                        #eccentricity\n",
    "    fitparams.w = w                         #longitude of periastron (in degrees)\n",
    "    fitparams.u = []                   #limb darkening coefficients [u1, u2]\n",
    "    fitparams.limb_dark = \"uniform\"          #limbs darkening mode\n",
    "    fit_LC = inittransitenv.light_curve(fitparams)                #calculates light curve\n",
    "    \n",
    "    # calculate likelihood\n",
    "    lnL = logLikelihood(y, yerr, fit_LC)\n",
    "    \n",
    "    return lnL"
   ]
  },
  {
   "cell_type": "code",
   "execution_count": 10,
   "metadata": {
    "scrolled": true
   },
   "outputs": [
    {
     "name": "stdout",
     "output_type": "stream",
     "text": [
      "==================================================\n",
      "dR = 104234.4 m (0.1 scale heights, 0.11 percent of Rp)\n",
      "Evening limb radius = 94134245.9 m\n",
      "Morning limb radius = 94238480.3 m\n",
      "dr = 0.0002 \n",
      "Evening limb Rp/Rs = 0.1457\n",
      "Morning limb Rp/Rs = 0.1459\n",
      "Expected shift (method 2) = -0.39 seconds\n"
     ]
    },
    {
     "name": "stderr",
     "output_type": "stream",
     "text": [
      "100%|██████████| 5500/5500 [00:28<00:00, 190.04it/s]"
     ]
    },
    {
     "name": "stdout",
     "output_type": "stream",
     "text": [
      "==================================================\n",
      "dR = 208468.8 m (0.2 scale heights, 0.22 percent of Rp)\n",
      "Evening limb radius = 94134245.9 m\n",
      "Morning limb radius = 94342714.7 m\n",
      "dr = 0.0003 \n",
      "Evening limb Rp/Rs = 0.1457\n",
      "Morning limb Rp/Rs = 0.1460\n",
      "Expected shift (method 2) = -0.78 seconds\n"
     ]
    },
    {
     "name": "stderr",
     "output_type": "stream",
     "text": [
      "\n",
      "100%|██████████| 5500/5500 [00:29<00:00, 188.82it/s]"
     ]
    },
    {
     "name": "stdout",
     "output_type": "stream",
     "text": [
      "==================================================\n",
      "dR = 312703.2 m (0.3 scale heights, 0.33 percent of Rp)\n",
      "Evening limb radius = 94134245.9 m\n",
      "Morning limb radius = 94446949.1 m\n",
      "dr = 0.0005 \n",
      "Evening limb Rp/Rs = 0.1457\n",
      "Morning limb Rp/Rs = 0.1462\n",
      "Expected shift (method 2) = -1.17 seconds\n"
     ]
    },
    {
     "name": "stderr",
     "output_type": "stream",
     "text": [
      "\n",
      "100%|██████████| 5500/5500 [00:29<00:00, 186.16it/s]"
     ]
    },
    {
     "name": "stdout",
     "output_type": "stream",
     "text": [
      "==================================================\n",
      "dR = 416937.7 m (0.4 scale heights, 0.44 percent of Rp)\n",
      "Evening limb radius = 94134245.9 m\n",
      "Morning limb radius = 94551183.6 m\n",
      "dr = 0.0006 \n",
      "Evening limb Rp/Rs = 0.1457\n",
      "Morning limb Rp/Rs = 0.1463\n",
      "Expected shift (method 2) = -1.56 seconds\n"
     ]
    },
    {
     "name": "stderr",
     "output_type": "stream",
     "text": [
      "\n",
      "100%|██████████| 5500/5500 [00:28<00:00, 192.65it/s]"
     ]
    },
    {
     "name": "stdout",
     "output_type": "stream",
     "text": [
      "==================================================\n",
      "dR = 521172.1 m (0.5 scale heights, 0.55 percent of Rp)\n",
      "Evening limb radius = 94134245.9 m\n",
      "Morning limb radius = 94655418.0 m\n",
      "dr = 0.0008 \n",
      "Evening limb Rp/Rs = 0.1457\n",
      "Morning limb Rp/Rs = 0.1465\n",
      "Expected shift (method 2) = -1.95 seconds\n"
     ]
    },
    {
     "name": "stderr",
     "output_type": "stream",
     "text": [
      "\n",
      "100%|██████████| 5500/5500 [00:31<00:00, 174.87it/s]"
     ]
    },
    {
     "name": "stdout",
     "output_type": "stream",
     "text": [
      "==================================================\n",
      "dR = 625406.5 m (0.6 scale heights, 0.66 percent of Rp)\n",
      "Evening limb radius = 94134245.9 m\n",
      "Morning limb radius = 94759652.4 m\n",
      "dr = 0.0010 \n",
      "Evening limb Rp/Rs = 0.1457\n",
      "Morning limb Rp/Rs = 0.1467\n",
      "Expected shift (method 2) = -2.34 seconds\n"
     ]
    },
    {
     "name": "stderr",
     "output_type": "stream",
     "text": [
      "\n",
      "100%|██████████| 5500/5500 [00:35<00:00, 156.69it/s]"
     ]
    },
    {
     "name": "stdout",
     "output_type": "stream",
     "text": [
      "==================================================\n",
      "dR = 729640.9 m (0.7 scale heights, 0.78 percent of Rp)\n",
      "Evening limb radius = 94134245.9 m\n",
      "Morning limb radius = 94863886.8 m\n",
      "dr = 0.0011 \n",
      "Evening limb Rp/Rs = 0.1457\n",
      "Morning limb Rp/Rs = 0.1468\n",
      "Expected shift (method 2) = -2.73 seconds\n"
     ]
    },
    {
     "name": "stderr",
     "output_type": "stream",
     "text": [
      "\n",
      "100%|██████████| 5500/5500 [00:32<00:00, 168.24it/s]"
     ]
    },
    {
     "name": "stdout",
     "output_type": "stream",
     "text": [
      "==================================================\n",
      "dR = 833875.3 m (0.8 scale heights, 0.89 percent of Rp)\n",
      "Evening limb radius = 94134245.9 m\n",
      "Morning limb radius = 94968121.2 m\n",
      "dr = 0.0013 \n",
      "Evening limb Rp/Rs = 0.1457\n",
      "Morning limb Rp/Rs = 0.1470\n",
      "Expected shift (method 2) = -3.12 seconds\n"
     ]
    },
    {
     "name": "stderr",
     "output_type": "stream",
     "text": [
      "\n",
      "100%|██████████| 5500/5500 [00:29<00:00, 184.33it/s]"
     ]
    },
    {
     "name": "stdout",
     "output_type": "stream",
     "text": [
      "==================================================\n",
      "dR = 938109.7 m (0.9 scale heights, 1.00 percent of Rp)\n",
      "Evening limb radius = 94134245.9 m\n",
      "Morning limb radius = 95072355.6 m\n",
      "dr = 0.0015 \n",
      "Evening limb Rp/Rs = 0.1457\n",
      "Morning limb Rp/Rs = 0.1472\n",
      "Expected shift (method 2) = -3.51 seconds\n"
     ]
    },
    {
     "name": "stderr",
     "output_type": "stream",
     "text": [
      "\n",
      "100%|██████████| 5500/5500 [00:29<00:00, 184.67it/s]"
     ]
    },
    {
     "name": "stdout",
     "output_type": "stream",
     "text": [
      "==================================================\n",
      "dR = 1042344.2 m (1.0 scale heights, 1.11 percent of Rp)\n",
      "Evening limb radius = 94134245.9 m\n",
      "Morning limb radius = 95176590.1 m\n",
      "dr = 0.0016 \n",
      "Evening limb Rp/Rs = 0.1457\n",
      "Morning limb Rp/Rs = 0.1473\n",
      "Expected shift (method 2) = -3.89 seconds\n"
     ]
    },
    {
     "name": "stderr",
     "output_type": "stream",
     "text": [
      "\n",
      "100%|██████████| 5500/5500 [00:28<00:00, 193.86it/s]"
     ]
    },
    {
     "name": "stdout",
     "output_type": "stream",
     "text": [
      "==================================================\n",
      "dR = 1146578.6 m (1.1 scale heights, 1.22 percent of Rp)\n",
      "Evening limb radius = 94134245.9 m\n",
      "Morning limb radius = 95280824.5 m\n",
      "dr = 0.0018 \n",
      "Evening limb Rp/Rs = 0.1457\n",
      "Morning limb Rp/Rs = 0.1475\n",
      "Expected shift (method 2) = -4.28 seconds\n"
     ]
    },
    {
     "name": "stderr",
     "output_type": "stream",
     "text": [
      "\n",
      "100%|██████████| 5500/5500 [00:29<00:00, 188.12it/s]"
     ]
    },
    {
     "name": "stdout",
     "output_type": "stream",
     "text": [
      "==================================================\n",
      "dR = 1250813.0 m (1.2 scale heights, 1.33 percent of Rp)\n",
      "Evening limb radius = 94134245.9 m\n",
      "Morning limb radius = 95385058.9 m\n",
      "dr = 0.0019 \n",
      "Evening limb Rp/Rs = 0.1457\n",
      "Morning limb Rp/Rs = 0.1476\n",
      "Expected shift (method 2) = -4.67 seconds\n"
     ]
    },
    {
     "name": "stderr",
     "output_type": "stream",
     "text": [
      "\n",
      "100%|██████████| 5500/5500 [00:30<00:00, 179.02it/s]"
     ]
    },
    {
     "name": "stdout",
     "output_type": "stream",
     "text": [
      "==================================================\n",
      "dR = 1355047.4 m (1.3 scale heights, 1.44 percent of Rp)\n",
      "Evening limb radius = 94134245.9 m\n",
      "Morning limb radius = 95489293.3 m\n",
      "dr = 0.0021 \n",
      "Evening limb Rp/Rs = 0.1457\n",
      "Morning limb Rp/Rs = 0.1478\n",
      "Expected shift (method 2) = -5.06 seconds\n"
     ]
    },
    {
     "name": "stderr",
     "output_type": "stream",
     "text": [
      "\n",
      "100%|██████████| 5500/5500 [00:29<00:00, 188.15it/s]\n"
     ]
    },
    {
     "name": "stdout",
     "output_type": "stream",
     "text": [
      "==================================================\n",
      "dR = 1459281.8 m (1.4 scale heights, 1.55 percent of Rp)\n",
      "Evening limb radius = 94134245.9 m\n",
      "Morning limb radius = 95593527.7 m\n",
      "dr = 0.0023 \n",
      "Evening limb Rp/Rs = 0.1457\n",
      "Morning limb Rp/Rs = 0.1480\n",
      "Expected shift (method 2) = -5.45 seconds\n"
     ]
    },
    {
     "name": "stderr",
     "output_type": "stream",
     "text": [
      "100%|██████████| 5500/5500 [00:28<00:00, 191.06it/s]"
     ]
    },
    {
     "name": "stdout",
     "output_type": "stream",
     "text": [
      "==================================================\n",
      "dR = 1563516.2 m (1.5 scale heights, 1.66 percent of Rp)\n",
      "Evening limb radius = 94134245.9 m\n",
      "Morning limb radius = 95697762.1 m\n",
      "dr = 0.0024 \n",
      "Evening limb Rp/Rs = 0.1457\n",
      "Morning limb Rp/Rs = 0.1481\n",
      "Expected shift (method 2) = -5.84 seconds\n"
     ]
    },
    {
     "name": "stderr",
     "output_type": "stream",
     "text": [
      "\n",
      "100%|██████████| 5500/5500 [00:29<00:00, 187.91it/s]"
     ]
    },
    {
     "name": "stdout",
     "output_type": "stream",
     "text": [
      "==================================================\n",
      "dR = 1667750.7 m (1.6 scale heights, 1.77 percent of Rp)\n",
      "Evening limb radius = 94134245.9 m\n",
      "Morning limb radius = 95801996.6 m\n",
      "dr = 0.0026 \n",
      "Evening limb Rp/Rs = 0.1457\n",
      "Morning limb Rp/Rs = 0.1483\n",
      "Expected shift (method 2) = -6.23 seconds\n"
     ]
    },
    {
     "name": "stderr",
     "output_type": "stream",
     "text": [
      "\n",
      "100%|██████████| 5500/5500 [00:30<00:00, 179.79it/s]\n"
     ]
    },
    {
     "name": "stdout",
     "output_type": "stream",
     "text": [
      "==================================================\n",
      "dR = 1771985.1 m (1.7 scale heights, 1.88 percent of Rp)\n",
      "Evening limb radius = 94134245.9 m\n",
      "Morning limb radius = 95906231.0 m\n",
      "dr = 0.0027 \n",
      "Evening limb Rp/Rs = 0.1457\n",
      "Morning limb Rp/Rs = 0.1484\n",
      "Expected shift (method 2) = -6.62 seconds\n"
     ]
    },
    {
     "name": "stderr",
     "output_type": "stream",
     "text": [
      "100%|██████████| 5500/5500 [00:30<00:00, 181.97it/s]\n"
     ]
    },
    {
     "name": "stdout",
     "output_type": "stream",
     "text": [
      "==================================================\n",
      "dR = 1876219.5 m (1.8 scale heights, 1.99 percent of Rp)\n",
      "Evening limb radius = 94134245.9 m\n",
      "Morning limb radius = 96010465.4 m\n",
      "dr = 0.0029 \n",
      "Evening limb Rp/Rs = 0.1457\n",
      "Morning limb Rp/Rs = 0.1486\n",
      "Expected shift (method 2) = -7.01 seconds\n"
     ]
    },
    {
     "name": "stderr",
     "output_type": "stream",
     "text": [
      "100%|██████████| 5500/5500 [00:30<00:00, 181.70it/s]\n"
     ]
    },
    {
     "name": "stdout",
     "output_type": "stream",
     "text": [
      "==================================================\n",
      "dR = 1980453.9 m (1.9 scale heights, 2.10 percent of Rp)\n",
      "Evening limb radius = 94134245.9 m\n",
      "Morning limb radius = 96114699.8 m\n",
      "dr = 0.0031 \n",
      "Evening limb Rp/Rs = 0.1457\n",
      "Morning limb Rp/Rs = 0.1488\n",
      "Expected shift (method 2) = -7.40 seconds\n"
     ]
    },
    {
     "name": "stderr",
     "output_type": "stream",
     "text": [
      "100%|██████████| 5500/5500 [00:31<00:00, 174.24it/s]"
     ]
    },
    {
     "name": "stdout",
     "output_type": "stream",
     "text": [
      "==================================================\n",
      "dR = 2084688.3 m (2.0 scale heights, 2.21 percent of Rp)\n",
      "Evening limb radius = 94134245.9 m\n",
      "Morning limb radius = 96218934.2 m\n",
      "dr = 0.0032 \n",
      "Evening limb Rp/Rs = 0.1457\n",
      "Morning limb Rp/Rs = 0.1489\n",
      "Expected shift (method 2) = -7.79 seconds\n"
     ]
    },
    {
     "name": "stderr",
     "output_type": "stream",
     "text": [
      "\n",
      "100%|██████████| 5500/5500 [00:32<00:00, 166.68it/s]\n"
     ]
    }
   ],
   "source": [
    "Nvals = np.linspace(0.1, 2.0, 20) #np.array([0.5, 1.0, 1.5, 2.0, 2.5, 3.0, 3.5, 4.0, 4.5, 5.0])\n",
    "dt_fits = np.zeros(len(Nvals))\n",
    "dt_fiterrs = np.zeros(len(Nvals))\n",
    "dt_calcs = np.zeros(len(Nvals))\n",
    "for iN, N in enumerate(Nvals):\n",
    "    print('='*50)\n",
    "    # define limb extension\n",
    "    #N = 1.0\n",
    "    dR_m = N * H #[m]\n",
    "\n",
    "    # set evening limb to same value\n",
    "    Rp_evening_m = Rp_meter\n",
    "    # but extend morning\n",
    "    Rp_morning_m = Rp_evening_m + dR_m\n",
    "    # and calculate analagous homogeneous transit\n",
    "    #Rp_uniform_m = np.sqrt((Rp_evening_m**2) + (Rp_evening_m * dR_m) + (dR_m**2))\n",
    "\n",
    "    print('dR = %.1f m (%.1f scale heights, %.2f percent of Rp)'%(dR_m, N, (100.*dR_m/Rp_evening_m)))\n",
    "    print('Evening limb radius = %.1f m'%(Rp_evening_m))\n",
    "    print('Morning limb radius = %.1f m'%(Rp_morning_m))\n",
    "    #print('Analogous uniform limb radius = %.1f m'%(Rp_uniform_m))\n",
    "    #print('     = %.4f x evening limb '%(Rp_uniform_m / Rp_evening_m))\n",
    "    #print('     = %.4f x morning limb '%(Rp_uniform_m / Rp_morning_m))\n",
    "\n",
    "    # compute corresponding rp/rs values\n",
    "    dr = dR_m / Rs_meter\n",
    "    r_evening = Rp_evening_m / Rs_meter\n",
    "    r_morning = Rp_morning_m / Rs_meter\n",
    "    #r_uniform = Rp_uniform_m / Rs_meter\n",
    "    print('dr = %.4f '%(dr))\n",
    "    print('Evening limb Rp/Rs = %.4f'%(r_evening))\n",
    "    print('Morning limb Rp/Rs = %.4f'%(r_morning))\n",
    "    #print('Analogous uniform limb Rp/Rs = %.4f'%(r_uniform))\n",
    "    #print('     = %.4f x evening limb '%(r_uniform / r_evening))\n",
    "    #print('     = %.4f x morning limb '%(r_uniform / r_morning))\n",
    "\n",
    "    # calculate expected shift in transit midpoint via method 1\n",
    "    #dt_numerator1 = (Rp_morning_m + Rp_evening_m) - 2.*Rp_uniform_m\n",
    "    #dt_expected1_sec = (dt_numerator1) / (2.*v_orb) # [s]\n",
    "    #dt_expected1_day = dt_expected1_sec / day_to_second \n",
    "    # calculate expected shift via method 2\n",
    "    d_pathlength = - dR_m\n",
    "    dt_expected2_sec = (d_pathlength) / (2.*v_orb)\n",
    "\n",
    "    #print('Expected shift (method 1) = %.2f seconds'%(dt_expected1_sec))\n",
    "    print('Expected shift (method 2) = %.2f seconds'%(dt_expected2_sec))\n",
    "    \n",
    "    # update model parameters\n",
    "    # asymmetric transit:\n",
    "    aparams.rp = r_evening\n",
    "    aparams.rp2 = r_morning\n",
    "    #aparams.u = [0.5,0.5]\n",
    "    # analogous uniform transit:\n",
    "    #uparams.rp = r_uniform\n",
    "    #uparams.u = [0.5, 0.5]\n",
    "\n",
    "    # generate light curves\n",
    "    lc_asym = asymmodel.light_curve(aparams)\n",
    "    #lc_unif = unifmodel.light_curve(uparams)\n",
    "\n",
    "    # generate fake data around asymmetric light curve\n",
    "    y_sim, yerr_sim = np.zeros(len(lc_asym)), np.zeros(len(lc_asym))\n",
    "    scatter = 1. / 1.e6\n",
    "    for i, time in enumerate(t):\n",
    "        y_sim[i] = lc_asym[i] + np.random.normal(loc=0., scale=scatter)\n",
    "        yerr_sim = scatter\n",
    "        \n",
    "    t0_init = t0\n",
    "    t0_initerr = (1.0) / 24./24./60.\n",
    "\n",
    "    Ndim = 1\n",
    "    Nwalkers = 5\n",
    "    pos = np.zeros((Nwalkers, Ndim))\n",
    "    pos[:,0] = t0_init + np.random.normal(0., t0_initerr, Nwalkers)\n",
    "\n",
    "    Nburn = 500\n",
    "    Nsteps = 5000 + Nburn\n",
    "    \n",
    "    with Pool() as pool:\n",
    "        sampler = emcee.EnsembleSampler(Nwalkers, Ndim, lnPosterior, pool=pool,\n",
    "                                       args=(t, y_sim, yerr_sim, r_evening, r_morning, asymmodel))\n",
    "        sampler.run_mcmc(pos, Nsteps, progress=True)\n",
    "        \n",
    "    samples = sampler.get_chain(discard=Nburn)\n",
    "    flatsamples = sampler.get_chain(discard=Nburn, flat=True)\n",
    "    \n",
    "    t0_bestfit = np.median(flatsamples[:,0])\n",
    "    t0_pluserr = np.percentile(flatsamples[:,0], 84) - t0_bestfit\n",
    "    t0_minuserr = t0_bestfit - np.percentile(flatsamples[:,0], 16)\n",
    "    t0_besterr = np.mean((t0_pluserr, t0_minuserr))\n",
    "\n",
    "    dt_bestfit_sec = (t0_bestfit - t0)*day_to_second\n",
    "    dt_besterr_sec = t0_besterr*day_to_second\n",
    "    \n",
    "    dt_fits[iN] = dt_bestfit_sec\n",
    "    dt_fiterrs[iN] = dt_besterr_sec\n",
    "    dt_calcs[iN] = dt_expected2_sec"
   ]
  },
  {
   "cell_type": "code",
   "execution_count": 12,
   "metadata": {},
   "outputs": [
    {
     "data": {
      "image/png": "[encoded data removed]",
      "text/plain": [
       "<Figure size 800x400 with 1 Axes>"
      ]
     },
     "metadata": {},
     "output_type": "display_data"
    }
   ],
   "source": [
    "#\n",
    "fig, ax = plt.subplots(figsize=(8,4))\n",
    "ax.errorbar(Nvals, abs(dt_fits), dt_fiterrs, ls='None', c='black', marker='o', label='Fits')\n",
    "#\n",
    "ax.plot(Nvals, abs(0.5*dt_calcs), c='blue', label='Analytic')\n",
    "ax.plot(Nvals, (5./4.)*abs(0.5*dt_calcs), c='blue', ls='--', label='Analytic * 5/4')\n",
    "#ax.plot(Nvals, test, c='blue', label='1.35*Analytic')\n",
    "ax.set(xlabel='N', label='dt')\n",
    "ax.set(ylim=(-2,2))\n",
    "ax.legend(loc='best')\n",
    "plt.show()"
   ]
  },
  {
   "cell_type": "code",
   "execution_count": 10,
   "metadata": {},
   "outputs": [],
   "source": [
    "save_results = True\n",
    "if save_results:\n",
    "    filename = './newresults_wasp39b_uniformLD.npz'\n",
    "    np.savez(filename,\n",
    "            Nvals=Nvals, dt_fits=dt_fits, dt_fiterrs=dt_fiterrs, dt_cals=dt_calcs)"
   ]
  },
  {
   "cell_type": "code",
   "execution_count": 11,
   "metadata": {},
   "outputs": [
    {
     "data": {
      "text/plain": [
       "1042344.1620933041"
      ]
     },
     "execution_count": 11,
     "metadata": {},
     "output_type": "execute_result"
    }
   ],
   "source": [
    "H"
   ]
  },
  {
   "cell_type": "code",
   "execution_count": 13,
   "metadata": {},
   "outputs": [
    {
     "data": {
      "text/plain": [
       "144094.61721771155"
      ]
     },
     "execution_count": 13,
     "metadata": {},
     "output_type": "execute_result"
    }
   ],
   "source": [
    "v_orb"
   ]
  },
  {
   "cell_type": "code",
   "execution_count": 14,
   "metadata": {},
   "outputs": [
    {
     "data": {
      "text/plain": [
       "4.0552941"
      ]
     },
     "execution_count": 14,
     "metadata": {},
     "output_type": "execute_result"
    }
   ],
   "source": [
    "per"
   ]
  },
  {
   "cell_type": "code",
   "execution_count": null,
   "metadata": {},
   "outputs": [],
   "source": []
  }
 ],
 "metadata": {
  "kernelspec": {
   "display_name": "Python 3",
   "language": "python",
   "name": "python3"
  },
  "language_info": {
   "codemirror_mode": {
    "name": "ipython",
    "version": 3
   },
   "file_extension": ".py",
   "mimetype": "text/x-python",
   "name": "python",
   "nbconvert_exporter": "python",
   "pygments_lexer": "ipython3",
   "version": "3.8.8"
  }
 },
 "nbformat": 4,
 "nbformat_minor": 4
}
