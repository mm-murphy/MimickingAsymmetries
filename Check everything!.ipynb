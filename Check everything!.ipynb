{
 "cells": [
  {
   "cell_type": "code",
   "execution_count": 1,
   "metadata": {},
   "outputs": [],
   "source": [
    "import numpy as np"
   ]
  },
  {
   "cell_type": "code",
   "execution_count": 2,
   "metadata": {},
   "outputs": [],
   "source": [
    "## Functions that will be used ...\n",
    "def calc_scale_height(T, M, R, mm=2):\n",
    "    \"\"\" Calculates the approximate scale height of a planet's atmosphere, using the equation\n",
    "     scale height = kT / mg\n",
    "    \n",
    "    Inputs: T = the atmospheric temperature in [K]; M = the planet's mass in [Mjupiter]; \n",
    "            R = the planet's radius in [Rjupiter]; mm = mean mass of a molecule in the atmosphere [amu], this is\n",
    "                   default set to 1 amu = 1 proton mass (for now)\n",
    "    Outputs: H = the scale height in [km]\n",
    "    \"\"\"\n",
    "    # constants:\n",
    "    amu = 1.67e-27 # [kg]; atomic mass unit in [kg]\n",
    "    k = 1.38e-23 # [Joule/K]; Boltzmann constant\n",
    "    G = 6.674e-11 # [m^3/kg/s^2]; Gravitational constant\n",
    "    Mjupiter = 1.9e27 # [kg]; mass of Jupiter\n",
    "    Rjupiter = 69911000.0 # [m]; approx. radius of Jupiter\n",
    "    \n",
    "    # computing the numerator for the scale height equation:\n",
    "    E_thermal = k*T # [Joule]\n",
    "    \n",
    "    # computing the denominator:\n",
    "    M_kg, R_m = M*Mjupiter, R*Rjupiter # convert planet quantities into SI units\n",
    "    g = G*M_kg/(R_m**2) # gravitational acceleration in [m/s^2]\n",
    "    meanmass = mm*amu\n",
    "    denominator = meanmass*g # [kg*m/s^2]\n",
    "    \n",
    "    # compute the scale height:\n",
    "    H = E_thermal / denominator # [meters]\n",
    "    H /= 1000. # convert to [km] from [m]\n",
    "    \n",
    "    return H\n",
    "\n",
    "def convert_rprs_to_rpJ(rprs, rs):\n",
    "    \"\"\" Converts the planet-star radius ratio into the planet's radius in Jupiter radii\n",
    "    Inputs: rprs = planet-star radius ratio; rs = stellar radius in [Rsun]\n",
    "    Outputs: rp = planet radius in [RJupiter]\n",
    "    \"\"\"\n",
    "    # compute planet radius in [solar radii]\n",
    "    rp_s = rprs*rs # [Rsol]\n",
    "    # convert [solar radii] to [jupiter radii]\n",
    "    rp_J = rp_s * 9.73116\n",
    "    \n",
    "    return rp_J\n",
    "\n",
    "def convert_rpJ_to_rprs(rpJ, rs):\n",
    "    \"\"\" Converts a planet radius to the planet-star radius ratio\n",
    "    Inputs: rpJ = planet radius in [Rjupiter], rs = stellar radius in [Rsun]\n",
    "    Outputs: rprs = planet-star radius ratio\n",
    "    \"\"\"\n",
    "    # convert planet radius to [Rsol]\n",
    "    rp_s = rpJ / 9.73116\n",
    "    # divide by stellar radius (in [Rsol])\n",
    "    rprs = rp_s / rs\n",
    "    \n",
    "    return rprs\n",
    "\n",
    "def convert_km_to_rpJ(km):\n",
    "    \"\"\" Converts a quantity in [km] to [Jupiter radii]\"\"\"\n",
    "    d = km / 71492.\n",
    "    return d"
   ]
  },
  {
   "cell_type": "code",
   "execution_count": 4,
   "metadata": {},
   "outputs": [
    {
     "name": "stdout",
     "output_type": "stream",
     "text": [
      "wasp 107 b scale height =  1042.3999181738595  km\n"
     ]
    }
   ],
   "source": [
    "## checking WASP-107 b's scale height calculation\n",
    "T_w107b = 736. # [K]\n",
    "M_w107b = 0.096 # [Mjupiter]\n",
    "R_w107b = 0.924 # [Rjupiter]\n",
    "H_w107b = calc_scale_height(T_w107b, M_w107b, R_w107b, mm=2)\n",
    "print('wasp 107 b scale height = ', H_w107b, ' km')"
   ]
  },
  {
   "cell_type": "markdown",
   "metadata": {},
   "source": [
    "I just realized that wasp-107b must be a super-puff planet"
   ]
  },
  {
   "cell_type": "code",
   "execution_count": 7,
   "metadata": {},
   "outputs": [
    {
     "name": "stdout",
     "output_type": "stream",
     "text": [
      "GJ 1214 b scale height =  110.47903979793624  km\n"
     ]
    }
   ],
   "source": [
    "## checking GJ 1214 b's scale height calculation\n",
    "T_gj1214b = 596. # [K]\n",
    "M_gj1214b = 0.0257 # [Mjupiter]\n",
    "R_gj1214b = 0.2446 # [Rjupiter]\n",
    "H_gj1214b = calc_scale_height(T_gj1214b, M_gj1214b, R_gj1214b, mm=4)\n",
    "print('GJ 1214 b scale height = ', H_gj1214b, ' km')"
   ]
  },
  {
   "cell_type": "code",
   "execution_count": null,
   "metadata": {},
   "outputs": [],
   "source": []
  }
 ],
 "metadata": {
  "kernelspec": {
   "display_name": "Python 3",
   "language": "python",
   "name": "python3"
  },
  "language_info": {
   "codemirror_mode": {
    "name": "ipython",
    "version": 3
   },
   "file_extension": ".py",
   "mimetype": "text/x-python",
   "name": "python",
   "nbconvert_exporter": "python",
   "pygments_lexer": "ipython3",
   "version": "3.8.13"
  }
 },
 "nbformat": 4,
 "nbformat_minor": 4
}
